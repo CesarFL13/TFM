{
 "cells": [
  {
   "cell_type": "markdown",
   "metadata": {},
   "source": [
    "Tareas por hacer:\n",
    "\n",
    "- Explicar el código en markdown\n",
    "- Añadir el callback para la optimización (creo que esto es trivial, solo que me parece que como estaba hecho es engorroso de más y le quiero dar una vuelta)\n",
    "- Traducir las rutinas para evaluar el valor esperado con circuitos cuánticos\n",
    "- Traducir la carga de los pesos de Boltzmann"
   ]
  },
  {
   "cell_type": "code",
   "execution_count": 1,
   "metadata": {},
   "outputs": [],
   "source": [
    "import numpy as np\n",
    "import matplotlib.pyplot as plt\n",
    "%matplotlib inline\n",
    "import scipy.sparse as ss\n",
    "from scipy.optimize import minimize\n",
    "from Hubbard_module import *\n",
    "from entforg import *\n",
    "\n",
    "from qiskit.circuit import QuantumCircuit, Parameter\n",
    "from qiskit.circuit.library import PauliEvolutionGate\n",
    "from qiskit.quantum_info import SparsePauliOp, Operator\n",
    "from qiskit.synthesis import MatrixExponential, LieTrotter\n",
    "ME = MatrixExponential()"
   ]
  },
  {
   "cell_type": "code",
   "execution_count": 2,
   "metadata": {},
   "outputs": [
    {
     "data": {
      "text/plain": [
       "'De momento esto no hace falta que esté en el notebook, pero lo dejo aquí por si acaso'"
      ]
     },
     "execution_count": 2,
     "metadata": {},
     "output_type": "execute_result"
    }
   ],
   "source": [
    "'De momento esto no hace falta que esté en el notebook, pero lo dejo aquí por si acaso'\n",
    "\n",
    "#from qiskit_nature.second_q.operators import FermionicOp\n",
    "#a = lambda i: FermionicOp({\"-_%i\" % i: 1.}, num_spin_orbitals=N_sites) \n",
    "#a_dag = lambda i: a(i).adjoint()"
   ]
  },
  {
   "cell_type": "code",
   "execution_count": 3,
   "metadata": {},
   "outputs": [],
   "source": [
    "from qiskit_nature.second_q.hamiltonians import QuadraticHamiltonian\n",
    "w_1=2*np.pi*400*(3.44-5)\n",
    "w_2=2*np.pi*400*(7.4-5)\n",
    "t=2*np.pi*2.32/2\n",
    "\n",
    "epsilon_1=w_1+t\n",
    "epsilon_2=w_2+t\n",
    "c=(w_1/2+w_2/2+t/2)\n",
    "C=np.sqrt((epsilon_1-epsilon_2)**2/4+t**2)\n",
    "lamda_pos=-(epsilon_1+epsilon_2)/2+C\n",
    "lamda_neg=-(epsilon_1+epsilon_2)/2-C\n",
    "D_pos=np.sqrt((lamda_pos+epsilon_2)**2+t**2)\n",
    "D_neg=np.sqrt((lamda_neg+epsilon_2)**2+t**2)\n",
    "\n",
    "A_11=-D_neg/(2*C)\n",
    "A_12=D_pos/(2*C)\n",
    "A_21=(lamda_pos+epsilon_2)*D_neg/(2*C*t)\n",
    "A_22=-(lamda_neg+epsilon_2)*D_pos/(2*C*t)\n",
    "\n",
    "omega_1=lamda_neg+2*t*(A_11**2*A_21**2+A_11*A_12*A_21*A_22)\n",
    "omega_2=lamda_pos+2*t*(A_12**2*A_22**2+A_11*A_12*A_21*A_22)\n",
    "U=2*t*(A_11**2*A_22**2+A_21**2*A_12**2-2*A_11*A_12*A_21*A_22)\n",
    "\n",
    "omega=np.array([omega_1,omega_2])\n",
    "# print(c)\n",
    "# hamil=np.array([[-(w_1+J_rad/2), J_rad/2],[J_rad/2,-(w_2+J_rad/2)]])"
   ]
  },
  {
   "cell_type": "code",
   "execution_count": 4,
   "metadata": {},
   "outputs": [],
   "source": [
    "import numpy as np\n",
    "from qiskit_nature.second_q.operators import FermionicOp\n",
    "from qiskit_nature.second_q.mappers import JordanWignerMapper\n",
    "JW = JordanWignerMapper()\n",
    "\n",
    "def H(omega,U, N_sites):\n",
    "    a = lambda i: FermionicOp({\"-_%i\" % i: 1.}, num_spin_orbitals=N_sites)\n",
    "    a_dag = lambda i: a(i).adjoint()\n",
    "    H_hopping=sum([omega[k]*a_dag(k)@a(k) for k in range(N_sites)])\n",
    "    H_U=U*a_dag(0)@a(0)@a_dag(1)@a(1)\n",
    "    H=JW.map((H_hopping+H_U).simplify().normal_order())\n",
    "    return H.chop()\n"
   ]
  },
  {
   "cell_type": "code",
   "execution_count": 5,
   "metadata": {},
   "outputs": [
    {
     "data": {
      "text/plain": [
       "SparsePauliOp(['II', 'IZ', 'ZI'],\n",
       "              coeffs=[-1062.86362656+0.j,  3019.57586369+0.j, -1956.71223713+0.j])"
      ]
     },
     "execution_count": 5,
     "metadata": {},
     "output_type": "execute_result"
    }
   ],
   "source": [
    "H(omega,0,2)"
   ]
  },
  {
   "cell_type": "markdown",
   "metadata": {},
   "source": [
    "Define parameters"
   ]
  },
  {
   "cell_type": "code",
   "execution_count": 6,
   "metadata": {},
   "outputs": [
    {
     "name": "stdout",
     "output_type": "stream",
     "text": [
      "SparsePauliOp(['II', 'IZ', 'ZI', 'ZZ'],\n",
      "              coeffs=[-1.05921938+0.j,  3.01593162+0.j, -1.96035648+0.j,  0.00364425+0.j])\n"
     ]
    }
   ],
   "source": [
    "N_sites=2\n",
    "omega=omega/1000\n",
    "U=U/1000\n",
    "H_q=H(omega,U,N_sites)\n",
    "print(H_q)"
   ]
  },
  {
   "cell_type": "code",
   "execution_count": 7,
   "metadata": {},
   "outputs": [],
   "source": [
    "# Diagonalize the Hamiltonian\n",
    "H_matrix = H_q.to_matrix()\n",
    "E_L, U_L = np.linalg.eigh(H_matrix)"
   ]
  },
  {
   "cell_type": "code",
   "execution_count": null,
   "metadata": {},
   "outputs": [],
   "source": []
  },
  {
   "cell_type": "code",
   "execution_count": null,
   "metadata": {},
   "outputs": [],
   "source": []
  },
  {
   "cell_type": "code",
   "execution_count": null,
   "metadata": {},
   "outputs": [],
   "source": []
  },
  {
   "cell_type": "code",
   "execution_count": 8,
   "metadata": {},
   "outputs": [],
   "source": [
    "# Create H_L and H_R\n",
    "identity = SparsePauliOp.from_list([('I'*N_sites, 1)])\n",
    "H_L = H_q^identity                 # H_L = H \\otimes I\n",
    "H_R = (identity^H_q).conjugate()   # H_R = I \\otimes H*"
   ]
  },
  {
   "cell_type": "code",
   "execution_count": null,
   "metadata": {
    "scrolled": true
   },
   "outputs": [],
   "source": []
  },
  {
   "cell_type": "code",
   "execution_count": 9,
   "metadata": {},
   "outputs": [
    {
     "name": "stdout",
     "output_type": "stream",
     "text": [
      "0 0.1\n",
      "1 0.786206896551724\n",
      "2 1.4724137931034482\n",
      "3 2.1586206896551725\n",
      "4 2.8448275862068964\n",
      "5 3.53103448275862\n",
      "6 4.2172413793103445\n",
      "7 4.903448275862068\n",
      "8 5.589655172413792\n",
      "9 6.275862068965516\n",
      "10 6.96206896551724\n",
      "11 7.648275862068965\n",
      "12 8.33448275862069\n",
      "13 9.020689655172413\n",
      "14 9.706896551724137\n",
      "15 10.39310344827586\n",
      "16 11.079310344827585\n",
      "17 11.765517241379309\n",
      "18 12.451724137931032\n",
      "19 13.137931034482756\n",
      "20 13.82413793103448\n",
      "21 14.510344827586206\n",
      "22 15.19655172413793\n",
      "23 15.882758620689653\n",
      "24 16.56896551724138\n",
      "25 17.255172413793105\n",
      "26 17.94137931034483\n",
      "27 18.627586206896552\n",
      "28 19.313793103448276\n",
      "29 20.0\n"
     ]
    }
   ],
   "source": [
    "betas = np.linspace(0.1, 20, 30)\n",
    "overlaps = np.zeros(len(betas))\n",
    "\n",
    "for i, beta in enumerate(betas):\n",
    "    print(i, beta)\n",
    "    # Create the interaction Hamiltonian\n",
    "    H_int_q=create_H_int(beta,omega,N_sites)\n",
    "    H_int_q = quita_Z(JW.map(create_H_int(beta, omega, N_sites)))\n",
    "\n",
    "    # Create the total Hamiltonian\n",
    "    H_tot = H_L + H_R + H_int_q\n",
    "    H_tot_matrix = np.round(H_tot.to_matrix(sparse=True), 8)\n",
    "    H_tot_matrix.eliminate_zeros()\n",
    "\n",
    "    # Diagonalize the total Hamiltonian. This is a huge matrix, as its defined in the doubled space,\n",
    "    # and we are only interested in its ground state, so we use sparse diagonalization\n",
    "    E_tot, U_tot = ss.linalg.eigsh(H_tot_matrix, k=1, which='SA')\n",
    "\n",
    "    # Compute the ground state\n",
    "    GS = U_tot[:, 0]\n",
    "\n",
    "    # Compute the TFD state\n",
    "    TFD = get_TFD(beta, U_L, np.conj(U_L), E_L)[0]\n",
    "\n",
    "    \n",
    "    '''# Use a truncated TFD state\n",
    "    mask = np.argsort(E_L)[:10] #These are the indices of the eigenstates to keep, in this case, the 10 lowest energy eigenstates\n",
    "    TFD = get_TFD_trunc(beta, U_L, np.conj(U_L), E_L, mask)[0]'''\n",
    "    \n",
    "    overlaps[i] = np.abs(np.dot(np.conj(GS), TFD))"
   ]
  },
  {
   "cell_type": "code",
   "execution_count": 10,
   "metadata": {},
   "outputs": [
    {
     "data": {
      "text/plain": [
       "SparsePauliOp(['IIII', 'IZII', 'ZIII', 'ZZII', 'IIII', 'IIIZ', 'IIZI', 'IIZZ', 'IIII'],\n",
       "              coeffs=[-1.05921938+0.j,  3.01593162+0.j, -1.96035648+0.j,  0.00364425+0.j,\n",
       " -1.05921938-0.j,  3.01593162-0.j, -1.96035648-0.j,  0.00364425-0.j,\n",
       "  0.        +0.j])"
      ]
     },
     "execution_count": 10,
     "metadata": {},
     "output_type": "execute_result"
    }
   ],
   "source": [
    "H_tot"
   ]
  },
  {
   "cell_type": "code",
   "execution_count": 11,
   "metadata": {},
   "outputs": [
    {
     "data": {
      "text/plain": [
       "Text(0, 0.5, '$|\\\\langle GS | TFD \\\\rangle|$')"
      ]
     },
     "execution_count": 11,
     "metadata": {},
     "output_type": "execute_result"
    }
   ],
   "source": [
    "plt.figure(figsize=(8, 6))\n",
    "plt.plot(betas, overlaps)\n",
    "plt.xlabel(r'$\\beta$')\n",
    "plt.ylabel(r'$|\\langle GS | TFD \\rangle|$')\n"
   ]
  },
  {
   "cell_type": "markdown",
   "metadata": {},
   "source": [
    "# Optimization"
   ]
  },
  {
   "cell_type": "code",
   "execution_count": 12,
   "metadata": {},
   "outputs": [],
   "source": [
    "# Set some fixed value for beta\n",
    "beta = 1.2253877551020407\n",
    "\n",
    "# Create the interaction Hamiltonian\n",
    "H_int_q = quita_Z(JW.map(create_H_int(beta, omega, N_sites)))\n",
    "\n",
    "# Create the total Hamiltonian\n",
    "H_tot = H_L + H_R + H_int_q\n",
    "H_tot_matrix = H_tot.to_matrix(sparse=True)\n",
    "H_tot_matrix.eliminate_zeros()\n",
    "\n",
    "# Diagonalize the total Hamiltonian\n",
    "E_tot, U_tot = ss.linalg.eigsh(H_tot_matrix, k=2, which='SA')\n",
    "\n",
    "# Compute the ground state\n",
    "GS = U_tot[:, 0]"
   ]
  },
  {
   "cell_type": "code",
   "execution_count": 13,
   "metadata": {},
   "outputs": [
    {
     "data": {
      "text/plain": [
       "array([-12.15069592,  -8.15769608])"
      ]
     },
     "execution_count": 13,
     "metadata": {},
     "output_type": "execute_result"
    }
   ],
   "source": [
    "E_tot"
   ]
  },
  {
   "cell_type": "code",
   "execution_count": 14,
   "metadata": {},
   "outputs": [],
   "source": [
    "TFD = get_TFD(beta, U_L, np.conj(U_L), E_L)[0]"
   ]
  },
  {
   "cell_type": "code",
   "execution_count": 15,
   "metadata": {},
   "outputs": [
    {
     "name": "stdout",
     "output_type": "stream",
     "text": [
      "0.9999998882901742\n",
      "0.9999998882901742\n"
     ]
    }
   ],
   "source": [
    "print(np.abs(np.dot(np.conj(GS), TFD)))\n",
    "print(np.abs(np.dot(np.conj(TFD), GS)))"
   ]
  },
  {
   "cell_type": "markdown",
   "metadata": {},
   "source": [
    "Define the ansatz"
   ]
  },
  {
   "cell_type": "code",
   "execution_count": 16,
   "metadata": {},
   "outputs": [],
   "source": [
    "def H_1(omega, N_sites):\n",
    "    a = lambda i: FermionicOp({\"-_%i\" % i: 1.}, num_spin_orbitals=N_sites)\n",
    "    a_dag = lambda i: a(i).adjoint()\n",
    "    H_hopping=sum([omega[k]*a_dag(k)@a(k) for k in range(N_sites)])\n",
    "    H=JW.map((H_hopping).simplify().normal_order())\n",
    "    return H.chop()\n",
    "\n",
    "def H_2(U, N_sites):\n",
    "    a = lambda i: FermionicOp({\"-_%i\" % i: 1.}, num_spin_orbitals=N_sites)\n",
    "    a_dag = lambda i: a(i).adjoint()\n",
    "    H_U=U*a_dag(0)@a(0)@a_dag(1)@a(1)\n",
    "    H=JW.map((H_U).simplify().normal_order())\n",
    "    return H.chop()\n"
   ]
  },
  {
   "cell_type": "code",
   "execution_count": 17,
   "metadata": {},
   "outputs": [
    {
     "data": {
      "text/plain": [
       "SparsePauliOp(['II', 'IZ', 'ZI'],\n",
       "              coeffs=[-1.06286363+0.j,  3.01957586+0.j, -1.95671224+0.j])"
      ]
     },
     "execution_count": 17,
     "metadata": {},
     "output_type": "execute_result"
    }
   ],
   "source": [
    "H_1(omega, N_sites)"
   ]
  },
  {
   "cell_type": "code",
   "execution_count": 18,
   "metadata": {},
   "outputs": [],
   "source": [
    "ansatz_U = QuantumCircuit(N_sites)\n",
    "H_hubbard_comm = H_2(U, N_sites).group_commuting()\n",
    "H_hopping_comm = H_1(omega, N_sites).group_commuting()\n",
    "reps = 1\n",
    "count = 0\n",
    "\n",
    "for r in range(reps):\n",
    "    for d in range(len(H_hubbard_comm)):\n",
    "        ansatz_U.append(PauliEvolutionGate(H_hubbard_comm[d], Parameter('t['+ str(count) + ']'), synthesis=ME), range(N_sites))\n",
    "        count += 1\n",
    "    ansatz_U.append(PauliEvolutionGate(H_hopping_comm[0], Parameter('t['+ str(count) + ']'), synthesis=ME), range(N_sites))\n",
    "    count += 1\n",
    "\n",
    "'''\n",
    "#En el código antiguo el ansatz estaba definido así, que no es exactamente lo mismo. En beta bajo esto no parece afectar mucho,\n",
    "# salvo por el hecho de que añade el doble de parámetros. En beta alto, el ansatz de arriba se queda ligeramente por debajo de 1\n",
    "for r in range(reps):\n",
    "    for d in range(len(H_hubbard_comm)):\n",
    "        ansatz_U.append(PauliEvolutionGate(H_hubbard_comm[d], Parameter('t['+ str(count) + ']'), synthesis=ME), range(N_sites))\n",
    "        count += 1\n",
    "        ansatz_U.append(PauliEvolutionGate(H_hopping_comm[0], Parameter('t['+ str(count) + ']'), synthesis=ME), range(N_sites))\n",
    "        count += 1\n",
    "'''\n",
    "gate_number = ansatz_U.num_parameters"
   ]
  },
  {
   "cell_type": "code",
   "execution_count": 19,
   "metadata": {},
   "outputs": [
    {
     "data": {
      "image/png": "[encoded data removed]",
      "text/plain": [
       "<Figure size 872.572x200.667 with 1 Axes>"
      ]
     },
     "execution_count": 19,
     "metadata": {},
     "output_type": "execute_result"
    }
   ],
   "source": [
    "ansatz_U.draw('mpl')"
   ]
  },
  {
   "cell_type": "code",
   "execution_count": 20,
   "metadata": {},
   "outputs": [],
   "source": [
    "def expectation_classic(x, ansatz_U, cllbck = None):\n",
    "    U_bound = ansatz_U.assign_parameters(x)\n",
    "    U_matrix = Operator(U_bound).data\n",
    "    \n",
    "    Energies = np.real(np.array([np.dot(np.conj(U_matrix[:, l].T), np.dot(H_matrix, U_matrix[:, l])) for l in range(len(U_matrix))]))\n",
    "    TFD, _ = get_TFD(beta, U_matrix, np.conj(U_matrix), Energies)\n",
    "    sTFD = ss.csr_matrix(TFD)\n",
    "    total_energy = np.real(np.dot(np.conj(sTFD), np.dot(H_tot_matrix, sTFD.T)))[0,0]\n",
    "    \n",
    "    if cllbck is not None:\n",
    "        cllbck(x, U_matrix)\n",
    "    return total_energy"
   ]
  },
  {
   "cell_type": "code",
   "execution_count": 21,
   "metadata": {},
   "outputs": [
    {
     "data": {
      "text/plain": [
       "np.float64(-12.150694132655653)"
      ]
     },
     "execution_count": 21,
     "metadata": {},
     "output_type": "execute_result"
    }
   ],
   "source": [
    "expectation_classic(np.zeros(gate_number), ansatz_U)"
   ]
  },
  {
   "cell_type": "code",
   "execution_count": 22,
   "metadata": {},
   "outputs": [],
   "source": [
    "def callback(x):\n",
    "    global x_arr\n",
    "    x_arr.append(x)"
   ]
  },
  {
   "cell_type": "code",
   "execution_count": 23,
   "metadata": {},
   "outputs": [],
   "source": [
    "def energia_libre(x, ansatz_U, cllbck = None):\n",
    "    U_bound = ansatz_U.assign_parameters(x)\n",
    "    U_matrix = Operator(U_bound).data\n",
    "    \n",
    "    Energies = np.real(np.array([np.dot(np.conj(U_matrix[:, l].T), np.dot(H_matrix, U_matrix[:, l])) for l in range(len(U_matrix))]))\n",
    "    TFD, lambdas = get_TFD(beta, U_matrix, np.conj(U_matrix), Energies)\n",
    "    sTFD = ss.csr_matrix(TFD)\n",
    "    energia_libre=-sum(np.exp(-beta*Energies))/beta\n",
    "    \n",
    "    if cllbck is not None:\n",
    "        cllbck(x, U_matrix)\n",
    "    return energia_libre"
   ]
  },
  {
   "cell_type": "code",
   "execution_count": 24,
   "metadata": {},
   "outputs": [],
   "source": [
    "gate_number=ansatz_U.num_parameters\n",
    "\n",
    "np.random.seed(42)\n",
    "x0 = 10**-2*np.random.random(gate_number)\n",
    "x_arr = []\n",
    "\n",
    "# Compute the initial energies and decide which states to keep\n",
    "U_bound = ansatz_U.assign_parameters(x0)\n",
    "U_matrix = Operator(U_bound).data\n",
    "Energies = np.real(np.array([np.dot(np.conj(U_matrix[:, l].T), np.dot(H_matrix, U_matrix[:, l])) for l in range(len(U_matrix))]))\n",
    "# Decide states to keep\n",
    "n_max = 2**(N_sites)\n",
    "Mask = np.argsort(Energies)[:n_max]\n",
    "\n",
    "min_result = minimize(expectation_classic, x0=x0, args=(ansatz_U), tol=1e-4, callback=callback)\n",
    "min_result2 = minimize(energia_libre, x0=x0, args=(ansatz_U), tol=1e-4, callback=callback)"
   ]
  },
  {
   "cell_type": "code",
   "execution_count": 25,
   "metadata": {},
   "outputs": [
    {
     "data": {
      "text/plain": [
       "  message: Optimization terminated successfully.\n",
       "  success: True\n",
       "   status: 0\n",
       "      fun: -12.150694132655651\n",
       "        x: [ 3.745e-03  9.507e-03]\n",
       "      nit: 0\n",
       "      jac: [ 0.000e+00  0.000e+00]\n",
       " hess_inv: [[1 0]\n",
       "            [0 1]]\n",
       "     nfev: 3\n",
       "     njev: 1"
      ]
     },
     "execution_count": 25,
     "metadata": {},
     "output_type": "execute_result"
    }
   ],
   "source": [
    "min_result"
   ]
  },
  {
   "cell_type": "code",
   "execution_count": 26,
   "metadata": {},
   "outputs": [
    {
     "data": {
      "text/plain": [
       "  message: Optimization terminated successfully.\n",
       "  success: True\n",
       "   status: 0\n",
       "      fun: -1347.1469121466316\n",
       "        x: [ 3.745e-03  9.507e-03]\n",
       "      nit: 0\n",
       "      jac: [ 0.000e+00  9.155e-05]\n",
       " hess_inv: [[1 0]\n",
       "            [0 1]]\n",
       "     nfev: 3\n",
       "     njev: 1"
      ]
     },
     "execution_count": 26,
     "metadata": {},
     "output_type": "execute_result"
    }
   ],
   "source": [
    "min_result2"
   ]
  },
  {
   "cell_type": "code",
   "execution_count": 27,
   "metadata": {},
   "outputs": [],
   "source": [
    "U_bound = ansatz_U.assign_parameters(min_result.x)\n",
    "U_matrix = Operator(U_bound).data\n",
    "\n",
    "Energies = np.real(np.array([np.dot(np.conj(U_matrix[:, l].T), np.dot(H_matrix, U_matrix[:, l])) for l in range(len(U_matrix))]))\n",
    "\n",
    "TFD_opt = get_TFD(beta, Operator(U_bound).data, np.conj(Operator(U_bound).data), Energies)[0]"
   ]
  },
  {
   "cell_type": "code",
   "execution_count": 28,
   "metadata": {},
   "outputs": [
    {
     "data": {
      "text/plain": [
       "np.float64(0.9999998882901742)"
      ]
     },
     "execution_count": 28,
     "metadata": {},
     "output_type": "execute_result"
    }
   ],
   "source": [
    "np.abs(np.dot(np.conj(GS), TFD_opt))"
   ]
  },
  {
   "cell_type": "code",
   "execution_count": 29,
   "metadata": {},
   "outputs": [
    {
     "data": {
      "text/plain": [
       "np.float64(0.9999998882901742)"
      ]
     },
     "execution_count": 29,
     "metadata": {},
     "output_type": "execute_result"
    }
   ],
   "source": [
    "np.abs(np.dot(np.conj(GS), TFD))"
   ]
  },
  {
   "cell_type": "code",
   "execution_count": 30,
   "metadata": {},
   "outputs": [
    {
     "data": {
      "text/plain": [
       "np.float64(1.0000000000000002)"
      ]
     },
     "execution_count": 30,
     "metadata": {},
     "output_type": "execute_result"
    }
   ],
   "source": [
    "np.abs(np.dot(np.conj(TFD_opt), TFD))"
   ]
  },
  {
   "cell_type": "code",
   "execution_count": 31,
   "metadata": {},
   "outputs": [],
   "source": [
    "U_bound2 = ansatz_U.assign_parameters(min_result2.x)\n",
    "U_matrix2 = Operator(U_bound).data\n",
    "\n",
    "Energies2 = np.real(np.array([np.dot(np.conj(U_matrix2[:, l].T), np.dot(H_matrix, U_matrix2[:, l])) for l in range(len(U_matrix2))]))\n",
    "\n",
    "TFD_opt2 = get_TFD(beta, Operator(U_bound2).data, np.conj(Operator(U_bound2).data), Energies2)[0]"
   ]
  },
  {
   "cell_type": "code",
   "execution_count": 32,
   "metadata": {},
   "outputs": [
    {
     "data": {
      "text/plain": [
       "np.float64(1.0000000000000002)"
      ]
     },
     "execution_count": 32,
     "metadata": {},
     "output_type": "execute_result"
    }
   ],
   "source": [
    "np.abs(np.dot(np.conj(TFD_opt2), TFD))"
   ]
  },
  {
   "cell_type": "markdown",
   "metadata": {},
   "source": [
    "# Overlap curve with optimization"
   ]
  },
  {
   "cell_type": "code",
   "execution_count": 33,
   "metadata": {},
   "outputs": [
    {
     "name": "stdout",
     "output_type": "stream",
     "text": [
      "beta: 0.001\n",
      "beta: 0.6325263157894737\n",
      "beta: 1.2640526315789473\n",
      "beta: 1.895578947368421\n",
      "beta: 2.5271052631578947\n",
      "beta: 3.1586315789473685\n",
      "beta: 3.790157894736842\n",
      "beta: 4.421684210526316\n",
      "beta: 5.05321052631579\n",
      "beta: 5.684736842105264\n",
      "beta: 6.3162631578947375\n",
      "beta: 6.947789473684211\n",
      "beta: 7.579315789473685\n",
      "beta: 8.210842105263158\n",
      "beta: 8.842368421052631\n",
      "beta: 9.473894736842105\n",
      "beta: 10.105421052631579\n",
      "beta: 10.736947368421053\n",
      "beta: 11.368473684210526\n",
      "beta: 12.0\n"
     ]
    }
   ],
   "source": [
    "N_sites = 2\n",
    "\n",
    "betas = np.linspace(0.001, 12, 20)\n",
    "overlaps_GS = np.zeros(len(betas))\n",
    "overlaps_TFD = np.zeros(len(betas))\n",
    "overlaps_GSTFD = np.zeros(len(betas))\n",
    "\n",
    "\n",
    "# Diagonalize the Hamiltonian\n",
    "H_matrix = H_q.to_matrix()\n",
    "E_L, U_L = np.linalg.eigh(H_matrix)\n",
    "\n",
    "# Create H_L and H_R\n",
    "identity = SparsePauliOp.from_list([('I'*N_sites, 1)])\n",
    "H_L = H_q^identity                 # H_L = H \\otimes I\n",
    "H_R = (identity^H_q).conjugate()   # H_R = I \\otimes H*\n",
    "\n",
    "ansatz_U = QuantumCircuit(N_sites)\n",
    "H_hubbard_comm = H_2(U, N_sites).group_commuting()\n",
    "H_hopping_comm = H_1(omega, N_sites).group_commuting()\n",
    "reps = 1\n",
    "count = 0\n",
    "\n",
    "for r in range(reps):\n",
    "    for d in range(len(H_hubbard_comm)):\n",
    "        ansatz_U.append(PauliEvolutionGate(H_hubbard_comm[d], Parameter('t['+ str(count) + ']'), synthesis=ME), range(N_sites))\n",
    "        count += 1\n",
    "    ansatz_U.append(PauliEvolutionGate(H_hopping_comm[0], Parameter('t['+ str(count) + ']'), synthesis=ME), range(N_sites))\n",
    "    count += 1\n",
    "\n",
    "gate_number = ansatz_U.num_parameters\n",
    "\n",
    "\n",
    "for i, beta in enumerate(betas):\n",
    "    print('beta:', beta)\n",
    "    # Create the interaction Hamiltonian\n",
    "    H_int_q = quita_Z(JW.map(create_H_int(beta, omega, N_sites)))\n",
    "\n",
    "    # Create the total Hamiltonian\n",
    "    H_tot = H_L + H_R + H_int_q\n",
    "    H_tot_matrix = H_tot.to_matrix(sparse=True)\n",
    "    H_tot_matrix.eliminate_zeros()\n",
    "\n",
    "    # Diagonalize the total Hamiltonian. This is a huge matrix, as its defined in the doubled space,\n",
    "    # and we are only interested in its ground state, so we use sparse diagonalization\n",
    "    E_tot, U_tot = ss.linalg.eigsh(H_tot_matrix, k=2, which='SA')\n",
    "\n",
    "    # Compute the ground state\n",
    "    GS = U_tot[:, 0]\n",
    "\n",
    "    # Compute the TFD state\n",
    "    TFD_exact = get_TFD(beta, U_L, np.conj(U_L), E_L)[0]\n",
    "\n",
    "    gate_number=ansatz_U.num_parameters\n",
    "\n",
    "    x0 = 10**-2*np.random.random(gate_number)\n",
    "\n",
    "    # Compute the initial energies and decide which states to keep\n",
    "    U_bound = ansatz_U.assign_parameters(x0)\n",
    "    U_matrix = Operator(U_bound).data\n",
    "    Energies = np.real(np.array([np.dot(np.conj(U_matrix[:, l].T), np.dot(H_matrix, U_matrix[:, l])) for l in range(len(U_matrix))]))\n",
    "    # Decide states to keep\n",
    "    n_max = 2**(N_sites)\n",
    "    Mask = np.argsort(Energies)[:n_max]\n",
    "\n",
    "    min_result = minimize(expectation_classic, x0=x0, args=(ansatz_U), tol=1e-6)\n",
    "\n",
    "    U_bound = ansatz_U.assign_parameters(min_result.x)\n",
    "    U_matrix = Operator(U_bound).data\n",
    "\n",
    "    Energies = np.real(np.array([np.dot(np.conj(U_matrix[:, l].T), np.dot(H_matrix, U_matrix[:, l])) for l in range(len(U_matrix))]))\n",
    "\n",
    "    TFD_opt = get_TFD(beta, Operator(U_bound).data, np.conj(Operator(U_bound).data), Energies)[0]\n",
    "\n",
    "    overlaps_GS[i] = np.abs(np.dot(np.conj(GS), TFD_opt))\n",
    "    overlaps_TFD[i] = np.abs(np.dot(np.conj(TFD_exact), TFD_opt))\n",
    "    overlaps_GSTFD[i] = np.abs(np.dot(np.conj(GS), TFD_exact))"
   ]
  },
  {
   "cell_type": "code",
   "execution_count": 34,
   "metadata": {},
   "outputs": [
    {
     "data": {
      "text/plain": [
       "<matplotlib.legend.Legend at 0x2651944f2f0>"
      ]
     },
     "execution_count": 34,
     "metadata": {},
     "output_type": "execute_result"
    }
   ],
   "source": [
    "#plt.figure(figsize=(8, 6))\n",
    "plt.plot(betas, overlaps_TFD, '*-', label='TFD-Opt')\n",
    "plt.plot(betas, overlaps_GS, label='GS-Opt')\n",
    "plt.plot(betas, overlaps_GSTFD, label='GS-TFD')\n",
    "plt.xlabel(r'$\\beta$')\n",
    "plt.legend()"
   ]
  },
  {
   "cell_type": "code",
   "execution_count": 35,
   "metadata": {},
   "outputs": [
    {
     "data": {
      "text/plain": [
       "array([-4979.9323483 , -1051.93088413,  1059.21937908,  4972.64385334])"
      ]
     },
     "execution_count": 35,
     "metadata": {},
     "output_type": "execute_result"
    }
   ],
   "source": [
    "np.sort(Energies*1000+c)"
   ]
  },
  {
   "cell_type": "code",
   "execution_count": 36,
   "metadata": {},
   "outputs": [
    {
     "data": {
      "text/plain": [
       "array([-6.03915173,  3.91342447])"
      ]
     },
     "execution_count": 36,
     "metadata": {},
     "output_type": "execute_result"
    }
   ],
   "source": [
    "omega"
   ]
  },
  {
   "cell_type": "code",
   "execution_count": 37,
   "metadata": {},
   "outputs": [
    {
     "data": {
      "text/plain": [
       "array([-4979.9323483 , -1051.93088413,  1059.21937908,  4972.64385334])"
      ]
     },
     "execution_count": 37,
     "metadata": {},
     "output_type": "execute_result"
    }
   ],
   "source": [
    "np.sort(E_L*1000+c)"
   ]
  },
  {
   "cell_type": "code",
   "execution_count": 38,
   "metadata": {},
   "outputs": [
    {
     "data": {
      "text/plain": [
       "array([ 0.0000000e+00, -4.4408921e-16,  0.0000000e+00,  0.0000000e+00])"
      ]
     },
     "execution_count": 38,
     "metadata": {},
     "output_type": "execute_result"
    }
   ],
   "source": [
    "np.sort(E_L)-np.sort(Energies)"
   ]
  },
  {
   "cell_type": "code",
   "execution_count": null,
   "metadata": {},
   "outputs": [],
   "source": []
  },
  {
   "cell_type": "code",
   "execution_count": 39,
   "metadata": {},
   "outputs": [
    {
     "name": "stdout",
     "output_type": "stream",
     "text": [
      "beta: 0.001\n",
      "beta: 0.6325263157894737\n",
      "beta: 1.2640526315789473\n",
      "beta: 1.895578947368421\n",
      "beta: 2.5271052631578947\n",
      "beta: 3.1586315789473685\n",
      "beta: 3.790157894736842\n",
      "beta: 4.421684210526316\n",
      "beta: 5.05321052631579\n",
      "beta: 5.684736842105264\n",
      "beta: 6.3162631578947375\n",
      "beta: 6.947789473684211\n",
      "beta: 7.579315789473685\n",
      "beta: 8.210842105263158\n",
      "beta: 8.842368421052631\n",
      "beta: 9.473894736842105\n",
      "beta: 10.105421052631579\n",
      "beta: 10.736947368421053\n",
      "beta: 11.368473684210526\n",
      "beta: 12.0\n"
     ]
    }
   ],
   "source": [
    "N_sites = 2\n",
    "\n",
    "betas = np.linspace(0.001, 12, 20)\n",
    "overlaps_GS = np.zeros(len(betas))\n",
    "overlaps_TFD = np.zeros(len(betas))\n",
    "overlaps_GSTFD = np.zeros(len(betas))\n",
    "\n",
    "\n",
    "# Diagonalize the Hamiltonian\n",
    "H_matrix = H_q.to_matrix()\n",
    "E_L, U_L = np.linalg.eigh(H_matrix)\n",
    "\n",
    "# Create H_L and H_R\n",
    "identity = SparsePauliOp.from_list([('I'*N_sites, 1)])\n",
    "H_L = H_q^identity                 # H_L = H \\otimes I\n",
    "H_R = (identity^H_q).conjugate()   # H_R = I \\otimes H*\n",
    "\n",
    "ansatz_U = QuantumCircuit(N_sites)\n",
    "H_hubbard_comm = H_2(U, N_sites).group_commuting()\n",
    "H_hopping_comm = H_1(omega, N_sites).group_commuting()\n",
    "reps = 1\n",
    "count = 0\n",
    "\n",
    "for r in range(reps):\n",
    "    for d in range(len(H_hubbard_comm)):\n",
    "        ansatz_U.append(PauliEvolutionGate(H_hubbard_comm[d], Parameter('t['+ str(count) + ']'), synthesis=ME), range(N_sites))\n",
    "        count += 1\n",
    "    ansatz_U.append(PauliEvolutionGate(H_hopping_comm[0], Parameter('t['+ str(count) + ']'), synthesis=ME), range(N_sites))\n",
    "    count += 1\n",
    "\n",
    "gate_number = ansatz_U.num_parameters\n",
    "\n",
    "\n",
    "for i, beta in enumerate(betas):\n",
    "    print('beta:', beta)\n",
    "    # Create the interaction Hamiltonian\n",
    "    H_int_q = quita_Z(JW.map(create_H_int(beta, omega, N_sites)))\n",
    "\n",
    "    # Create the total Hamiltonian\n",
    "    H_tot = H_L + H_R + H_int_q\n",
    "    H_tot_matrix = H_tot.to_matrix(sparse=True)\n",
    "    H_tot_matrix.eliminate_zeros()\n",
    "\n",
    "    # Diagonalize the total Hamiltonian. This is a huge matrix, as its defined in the doubled space,\n",
    "    # and we are only interested in its ground state, so we use sparse diagonalization\n",
    "    E_tot, U_tot = ss.linalg.eigsh(H_tot_matrix, k=2, which='SA')\n",
    "\n",
    "    # Compute the ground state\n",
    "    GS = U_tot[:, 0]\n",
    "\n",
    "    # Compute the TFD state\n",
    "    TFD_exact = get_TFD(beta, U_L, np.conj(U_L), E_L)[0]\n",
    "\n",
    "    gate_number=ansatz_U.num_parameters\n",
    "\n",
    "    x0 = 10**-2*np.random.random(gate_number)\n",
    "\n",
    "    # Compute the initial energies and decide which states to keep\n",
    "    U_bound = ansatz_U.assign_parameters(x0)\n",
    "    U_matrix = Operator(U_bound).data\n",
    "    Energies = np.real(np.array([np.dot(np.conj(U_matrix[:, l].T), np.dot(H_matrix, U_matrix[:, l])) for l in range(len(U_matrix))]))\n",
    "    # Decide states to keep\n",
    "    n_max = 2**(N_sites)\n",
    "    Mask = np.argsort(Energies)[:n_max]\n",
    "\n",
    "    min_result = minimize(energia_libre, x0=x0, args=(ansatz_U), tol=1e-6)\n",
    "\n",
    "    U_bound = ansatz_U.assign_parameters(min_result.x)\n",
    "    U_matrix = Operator(U_bound).data\n",
    "\n",
    "    Energies = np.real(np.array([np.dot(np.conj(U_matrix[:, l].T), np.dot(H_matrix, U_matrix[:, l])) for l in range(len(U_matrix))]))\n",
    "\n",
    "    TFD_opt = get_TFD(beta, Operator(U_bound).data, np.conj(Operator(U_bound).data), Energies)[0]\n",
    "\n",
    "    overlaps_GS[i] = np.abs(np.dot(np.conj(GS), TFD_opt))\n",
    "    overlaps_TFD[i] = np.abs(np.dot(np.conj(TFD_exact), TFD_opt))\n",
    "    overlaps_GSTFD[i] = np.abs(np.dot(np.conj(GS), TFD_exact))"
   ]
  },
  {
   "cell_type": "code",
   "execution_count": 46,
   "metadata": {},
   "outputs": [
    {
     "data": {
      "image/png": "[encoded data removed]",
      "text/plain": [
       "<Figure size 640x480 with 1 Axes>"
      ]
     },
     "metadata": {},
     "output_type": "display_data"
    }
   ],
   "source": [
    "#plt.figure(figsize=(8, 6))\n",
    "plt.plot(betas, overlaps_TFD, '*-', label='TFD-Opt')\n",
    "plt.xlabel(r'$\\beta$')\n",
    "plt.legend()\n",
    "plt.show()"
   ]
  },
  {
   "cell_type": "code",
   "execution_count": 41,
   "metadata": {},
   "outputs": [
    {
     "data": {
      "text/plain": [
       "array([-4979.9323483 , -1051.93088413,  1059.21937908,  4972.64385334])"
      ]
     },
     "execution_count": 41,
     "metadata": {},
     "output_type": "execute_result"
    }
   ],
   "source": [
    "np.sort(Energies*1000+c)"
   ]
  },
  {
   "cell_type": "code",
   "execution_count": 42,
   "metadata": {},
   "outputs": [
    {
     "data": {
      "text/plain": [
       "array([-6.03915173,  3.91342447])"
      ]
     },
     "execution_count": 42,
     "metadata": {},
     "output_type": "execute_result"
    }
   ],
   "source": [
    "omega"
   ]
  },
  {
   "cell_type": "code",
   "execution_count": 43,
   "metadata": {},
   "outputs": [
    {
     "data": {
      "text/plain": [
       "array([-4979.9323483 , -1051.93088413,  1059.21937908,  4972.64385334])"
      ]
     },
     "execution_count": 43,
     "metadata": {},
     "output_type": "execute_result"
    }
   ],
   "source": [
    "np.sort(E_L*1000+c)"
   ]
  },
  {
   "cell_type": "code",
   "execution_count": 44,
   "metadata": {},
   "outputs": [
    {
     "data": {
      "text/plain": [
       "array([8.8817842e-16, 0.0000000e+00, 0.0000000e+00, 0.0000000e+00])"
      ]
     },
     "execution_count": 44,
     "metadata": {},
     "output_type": "execute_result"
    }
   ],
   "source": [
    "np.sort(E_L)-np.sort(Energies)"
   ]
  }
 ],
 "metadata": {
  "kernelspec": {
   "display_name": "Python 3 (ipykernel)",
   "language": "python",
   "name": "python3"
  },
  "language_info": {
   "codemirror_mode": {
    "name": "ipython",
    "version": 3
   },
   "file_extension": ".py",
   "mimetype": "text/x-python",
   "name": "python",
   "nbconvert_exporter": "python",
   "pygments_lexer": "ipython3",
   "version": "3.12.8"
  }
 },
 "nbformat": 4,
 "nbformat_minor": 4
}
