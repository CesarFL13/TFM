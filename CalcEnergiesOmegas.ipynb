{
 "cells": [
  {
   "cell_type": "code",
   "execution_count": 118,
   "id": "13849cc5-08e0-4f00-bb82-cd833f63e492",
   "metadata": {
    "jupyter": {
     "source_hidden": true
    }
   },
   "outputs": [],
   "source": [
    "from scipy.fft import fft\n",
    "from scipy.linalg import expm\n",
    "import time\n",
    "import random\n",
    "import json\n",
    "import numpy as np\n",
    "from numpy import linalg as LA\n",
    "import matplotlib.pyplot as plt\n",
    "%matplotlib inline\n",
    "import scipy.sparse as ss\n",
    "from scipy.optimize import minimize\n",
    "from entforg import *\n",
    "from IPython.display import display,Markdown,Latex\n",
    "\n",
    "\n",
    "from qiskit.primitives import StatevectorEstimator\n",
    "from qiskit import transpile\n",
    "from qiskit.circuit import QuantumCircuit, Parameter\n",
    "from qiskit.circuit.library import PauliEvolutionGate\n",
    "from qiskit.quantum_info import SparsePauliOp, Operator\n",
    "from qiskit.synthesis import MatrixExponential, LieTrotter\n",
    "from qiskit_nature.second_q.hamiltonians import QuadraticHamiltonian\n",
    "from qiskit_nature.second_q.operators import FermionicOp\n",
    "from qiskit_nature.second_q.mappers import JordanWignerMapper\n",
    "from itertools import product\n",
    "import math\n",
    "\n",
    "from qiskit.quantum_info.operators import Pauli\n",
    "from qiskit_nature.second_q.mappers.fermionic_mapper import FermionicMapper\n",
    "\n",
    "from collections import defaultdict \n",
    "from qiskit_nature.units import DistanceUnit\n",
    "from qiskit_nature.second_q.drivers import PySCFDriver\n",
    "from IPython.display import display\n",
    "ME = MatrixExponential()"
   ]
  },
  {
   "cell_type": "markdown",
   "id": "571e095e-bc97-4c7d-83b6-01b065aa8967",
   "metadata": {},
   "source": [
    "!!!!!!!!!!!!!!!!!!!!\n",
    "\n",
    "El objetivo de este notebook es comprobar si el orden de las energías obtenido para la parte cuadrática del hamiltoniano se mantiene al reintroducir el término cuártico o se entrecruzan. Para ello, vamos reintroduciendo este término mediante un parámetro alpha entre 0 y 1. En este caso, las energías para alpha=0 se calcularán a partir de los omegas.\n",
    "\n",
    "!!!!!!!!!!!!!!!!!!!!"
   ]
  },
  {
   "cell_type": "markdown",
   "id": "ee23d25a-a86a-4e45-a40a-5aea29883161",
   "metadata": {},
   "source": [
    "### Definimos las distintas funciones que nos permitirán llevar a cabo las optimizaciones."
   ]
  },
  {
   "cell_type": "code",
   "execution_count": 61,
   "id": "573e8c9f-e4e1-499f-9739-a2cfc58575c7",
   "metadata": {
    "jupyter": {
     "source_hidden": true
    }
   },
   "outputs": [],
   "source": [
    "# Estas son funciones para visualizar de una forma más agradable las matrices resultantes.\n",
    "def MatrixToLatex(A):\n",
    "    a=\"\\\\begin{bmatrix}\"\n",
    "    for i in range(A.shape[0]):\n",
    "        for j in range(A.shape[1]):\n",
    "            if ((j+1)%A.shape[1])==0:           \n",
    "                a=a+\"{0:.2f}\".format(A[i,j])\n",
    "            else:\n",
    "                a=a+\"%s&\"%\"{0:.2f}\".format(A[i,j])\n",
    "        if ((i+1)%A.shape[0])!=0:\n",
    "            a=a+\"\\\\\\\\\"\n",
    "    a=a+\"\\\\end{bmatrix}\"\n",
    "\n",
    "    return(a)\n",
    "\n",
    "def Display(string):\n",
    "    display(Markdown(string))\n",
    "\n",
    "    \n",
    "def DisplayMatrix(A):\n",
    "    A_Latex = MatrixToLatex(A)\n",
    "    display(Markdown(A_Latex))"
   ]
  },
  {
   "cell_type": "code",
   "execution_count": 62,
   "id": "26d19055-eee5-44fa-aee5-79e6211b68e5",
   "metadata": {
    "jupyter": {
     "source_hidden": true
    }
   },
   "outputs": [],
   "source": [
    "# Esta función calcula el hamiltoniano del problema, dados los valores de los shifts y el offset en ppm, de los J en Hz y de B en MHz. \n",
    "def Hspin(shifts, J, offset, B):\n",
    "    # Leemos cuantos spines hay en el sistema.\n",
    "    n=len(shifts)\n",
    "    # Definimos los coeficientes que acompañarán a las cadenas de Pauli.\n",
    "    w=[(shifts[i]-offset)*np.pi*B for i in range(n)]\n",
    "    J2=[np.pi*J[i]/2 for i in range(len(J))]\n",
    "    # Creamos las listas que guardarán los datos.\n",
    "    pauli_strings = []\n",
    "    coeffs=[]\n",
    "    # Añadimos los términos correspondientes a los shifts.\n",
    "    for i in range(n):\n",
    "        string='I'*i+'Z'+'I'*(n-i-1)\n",
    "        pauli_strings.append(string)\n",
    "        coeffs.append(w[i])\n",
    "    # Añadimos los términos correspondientes a los J.\n",
    "    k=0\n",
    "    for i in range(n):\n",
    "        for j in range(n-i-1):\n",
    "            strX='I'*i+'X'+'I'*j+'X'+'I'*(n-i-j-2)\n",
    "            strY='I'*i+'Y'+'I'*j+'Y'+'I'*(n-i-j-2)\n",
    "            strZ='I'*i+'Z'+'I'*j+'Z'+'I'*(n-i-j-2)\n",
    "            pauli_strings.append(strX)\n",
    "            coeffs.append(J2[k])\n",
    "            pauli_strings.append(strY)\n",
    "            coeffs.append(J2[k])\n",
    "            pauli_strings.append(strZ)\n",
    "            coeffs.append(J2[k])\n",
    "            k+=1\n",
    "    # Creamos y devolvemos el operador equivalente en la base de Pauli\n",
    "    return SparsePauliOp.from_list(list(zip(pauli_strings, coeffs)))            "
   ]
  },
  {
   "cell_type": "code",
   "execution_count": 63,
   "id": "c88be810-db1e-498d-a667-93c2cc8c7536",
   "metadata": {
    "jupyter": {
     "source_hidden": true
    }
   },
   "outputs": [],
   "source": [
    "# Función necesaria para transformar los nombres de los elementos del diccionario que guarda la descomposición en operadores fermiónicos.\n",
    "def transform_dict_keys(data):\n",
    "    label_transformation = {\n",
    "        \"I\": \"\",\n",
    "        \"N\": \"+_{} -_{}\",\n",
    "        \"E\": \"-_{} +_{}\",\n",
    "        \"+\": \"+_{}\",\n",
    "        \"-\": \"-_{}\",\n",
    "    }\n",
    "\n",
    "    new_data = {}\n",
    "    for key, value in data.items():\n",
    "        new_key_parts = []\n",
    "        for i, char in enumerate(key):\n",
    "            if char in label_transformation:\n",
    "                # Apply transformation if the character is in the mapping\n",
    "                transformed = label_transformation[char].format(i, i)\n",
    "                if transformed:\n",
    "                    new_key_parts.append(transformed)\n",
    "        new_key = ' '.join(new_key_parts)  # Join the parts with spaces\n",
    "        new_data[new_key] = value\n",
    "\n",
    "    return new_data\n",
    "\n",
    "# Función que transforma un operador descompuesto en cadenas de Pauli en un operador en la base fermiónica. \n",
    "# Aplica la transformación de Jordan-Wigner inversa.\n",
    "def reverse_map(second_q_op: SparsePauliOp) -> FermionicOp:\n",
    "        \"\"\"Maps a class:`OperatorBase` to a `FermionicOp`.\n",
    "\n",
    "        Args:\n",
    "            second_q_op: the :class:`OperatorBase` to be mapped.\n",
    "\n",
    "        Returns:\n",
    "            The `FermionicOp` corresponding to the Hamiltonian in the Fermionic space.\n",
    "        \"\"\"\n",
    "\n",
    "        num_qubits = second_q_op.num_qubits # get number of qubits from input second quantized operator\n",
    "        fermionic_op = None\n",
    "        for term in second_q_op:\n",
    "            transform_list : List[Tuple(str, float)] = []  # list of tuple(pauli, coeff)\n",
    "            coef_term = term.coeffs[0]  # Assuming coeffs is a list with a single element\n",
    "            target_pauli_op = term.paulis[0]\n",
    "            #print(target_pauli_op)\n",
    "\n",
    "            for i in range(num_qubits):\n",
    "                one_pauli = target_pauli_op[num_qubits - 1 - i]\n",
    "                pauli_char=one_pauli.to_label()\n",
    "                if pauli_char == 'Z': # dealing Pauli Z op\n",
    "                    transform_list.append((('I',1),('N', -2))) # Zj -> I - 2*Nj => [('I', 1), ('N', -2)]\n",
    "                elif pauli_char == 'X': # dealing Pauli X op\n",
    "                    transform_list.append(((\"+\", 1), ('-', 1))) # Xj -> aj_dag + aj => [('+', 1), ('-', 1)]\n",
    "                    target_pauli_op &= Pauli(\"I\" * (i+1) + \"Z\" * (num_qubits - i - 1)) # apply Z(j-1)Z(j-2) ... Z(0)\n",
    "                elif one_pauli.to_label() == 'Y': # dealing Pauli Y op\n",
    "                    transform_list.append((('+', 1j), ('-', -1j))) # Yj -> i(aj - aj_dag) => [('+', -1j), ('-', 1j)]\n",
    "                    target_pauli_op &= Pauli(\"I\" * (i+1) + \"Z\" * (num_qubits - i - 1)) # apply Z(j-1)Z(j-2) ... Z(0)\n",
    "                else: \n",
    "                    # dealing Pauli I op\n",
    "                    transform_list.append((('I', 0.5), ('I', 0.5))) # Ij -> Ij => [('I', 0.5), ('I', 0.5)]; split I into 0.5I + 0.5I for code consistency\n",
    "            \n",
    "            # dealing the phase\n",
    "            if target_pauli_op.phase == 1:\n",
    "                coef_term *= 1j\n",
    "            elif target_pauli_op.phase == 2:\n",
    "                coef_term *= -1\n",
    "            elif target_pauli_op.phase == 3:\n",
    "                coef_term *= -1j\n",
    "\n",
    "            #print(transform_list)\n",
    "            pauli_coefs = []\n",
    "            pauli_strings = []\n",
    "            # create fermionic operator for a term based on transform_list\n",
    "            for idxes in product(*[[0, 1]]*num_qubits):\n",
    "                pauli_coefs.append(math.prod([t[i][1] for t, i in zip(transform_list, idxes)]))\n",
    "                pauli_strings.append(\"\".join([t[i][0] for t, i in zip(transform_list, idxes)])[::-1])\n",
    "            ferm_op=list(zip(pauli_strings, pauli_coefs))\n",
    "\n",
    "            ferm_dict = defaultdict(float)\n",
    "\n",
    "            # Iterate over each tuple in the list\n",
    "            for key, value in ferm_op:\n",
    "                # Sum the float values for tuples with the same string\n",
    "                ferm_dict[key] += value\n",
    "\n",
    "            ferm_dict_sparse=transform_dict_keys(ferm_dict)\n",
    "\n",
    "            #print(ferm_dict)\n",
    "            #print(ferm_dict_sparse)\n",
    "            #print(coef_term)\n",
    "\n",
    "            if not fermionic_op:\n",
    "                fermionic_op = coef_term * FermionicOp(ferm_dict_sparse,num_spin_orbitals=num_qubits).simplify()\n",
    "            else:\n",
    "                fermionic_op += coef_term * FermionicOp(ferm_dict_sparse,num_spin_orbitals=num_qubits).simplify()\n",
    "\n",
    "        return fermionic_op.simplify()\n",
    "\n",
    "# Función que filtra los términos con dos operadores fermiónicos.\n",
    "def filter_two_operator_terms(fermionic_op):\n",
    "    \"\"\"\n",
    "    Filtra los términos con exactamente dos operadores del FermionicOp.\n",
    "\n",
    "    Args:\n",
    "        fermionic_op (FermionicOp): El operador fermiónico a filtrar.\n",
    "\n",
    "    Returns:\n",
    "        FermionicOp: Un nuevo FermionicOp con solo los términos de dos operadores.\n",
    "    \"\"\"\n",
    "    filtered_data = {\n",
    "        term: coeff\n",
    "        for term, coeff in fermionic_op.items()\n",
    "        if len(term.split()) == 2 or len(term.split())==0   # Solo términos con dos operadores\n",
    "    }\n",
    "    return FermionicOp(filtered_data, num_spin_orbitals=fermionic_op.num_spin_orbitals)"
   ]
  },
  {
   "cell_type": "code",
   "execution_count": 64,
   "id": "73c904c7-117f-4d5f-86e8-8b66ad2c1daf",
   "metadata": {
    "jupyter": {
     "source_hidden": true
    }
   },
   "outputs": [],
   "source": [
    "# Función que realiza el cambio de base del operador fermiónico, dada una matriz de cambio de base T.\n",
    "def transform_fermionic_op(fermionic_op, T, T_conj):\n",
    "    new_op_data = {}\n",
    "    \n",
    "    for term, coeff in fermionic_op.items():\n",
    "        # Ignorar el término constante\n",
    "        if term == '':\n",
    "            new_op_data[''] = coeff\n",
    "            continue\n",
    "        \n",
    "        # Expandir cada término en la nueva base\n",
    "        new_terms = {}\n",
    "        for t in term.split():\n",
    "            op, idx = t[0], int(t[2])\n",
    "            if op == '+':  # Transformación de operadores de creación\n",
    "                new_operators = {f'+_{j}': T[j, idx] for j in range(len(T))}\n",
    "            elif op == '-':  # Transformación de operadores de destrucción\n",
    "                new_operators = {f'-_{j}': T_conj[j, idx] for j in range(len(T_conj))}\n",
    "            \n",
    "            # Combinar términos en la nueva base\n",
    "            if not new_terms: # Si este término no existía, simplemente se guarda el nuevo.\n",
    "                new_terms = new_operators\n",
    "            else: # Si existía, se combinan los antiguos con los nuevos de esta iteración.\n",
    "                new_terms = {\n",
    "                    f\"{k1} {k2}\": v1 * v2\n",
    "                    for k1, v1 in new_terms.items()\n",
    "                    for k2, v2 in new_operators.items()\n",
    "                }\n",
    "        \n",
    "        # Agregar al nuevo FermionicOp\n",
    "        for new_term, new_coeff in new_terms.items():\n",
    "            if new_term in new_op_data:\n",
    "                new_op_data[new_term] += coeff * new_coeff\n",
    "            else:\n",
    "                new_op_data[new_term] = coeff * new_coeff\n",
    "\n",
    "    return FermionicOp(new_op_data, num_spin_orbitals=len(T))\n"
   ]
  },
  {
   "cell_type": "code",
   "execution_count": 65,
   "id": "e286f098-9888-478b-8442-2c70af9a42ae",
   "metadata": {
    "jupyter": {
     "source_hidden": true
    }
   },
   "outputs": [],
   "source": [
    "def filter_single_z_terms(sparse_pauli_op):\n",
    "    \"\"\"\n",
    "    Filtra los términos en un SparsePauliOp que contienen exactamente una 'Z' y el resto son identidades ('I').\n",
    "\n",
    "    Args:\n",
    "        sparse_pauli_op (SparsePauliOp): El SparsePauliOp a filtrar.\n",
    "\n",
    "    Returns:\n",
    "        SparsePauliOp: Un nuevo SparsePauliOp con los términos filtrados.\n",
    "    \"\"\"\n",
    "    pauli_strings = sparse_pauli_op.paulis.to_labels()\n",
    "    coeffs = sparse_pauli_op.coeffs\n",
    "\n",
    "    # Filtrar términos con exactamente una 'Z' y el resto 'I'\n",
    "    filtered_pauli_strings = []\n",
    "    filtered_coeffs = []\n",
    "    \n",
    "    for pauli, coeff in zip(pauli_strings, coeffs):\n",
    "        if pauli.count('Z') == 1 and pauli.count('I') == len(pauli) - 1:\n",
    "            filtered_pauli_strings.append(pauli)\n",
    "            filtered_coeffs.append(coeff)\n",
    "        if pauli.count('I') == len(pauli):\n",
    "            filtered_pauli_strings.append(pauli)\n",
    "            filtered_coeffs.append(coeff)\n",
    "\n",
    "    # Crear y devolver el nuevo SparsePauliOp con los términos filtrados\n",
    "    return SparsePauliOp.from_list(list(zip(filtered_pauli_strings, filtered_coeffs)))"
   ]
  },
  {
   "cell_type": "code",
   "execution_count": 66,
   "id": "eaf4ab0c-7c48-4eb2-8b57-f33bb2eaba1d",
   "metadata": {},
   "outputs": [],
   "source": [
    "# Función que calcula el valor esperado de la energía del hamiltoniano total.\n",
    "def expectation_classic(x, ansatz_U, beta, H_matrix, H_tot_matrix, cllbck = None):\n",
    "    U_bound = ansatz_U.assign_parameters(x) # Dado un vector de parámetros, los asigna al operador unitario equivalente al circuito.\n",
    "    U_matrix = Operator(U_bound).data # Obtenemos la matriz de este operador.\n",
    "\n",
    "    # Obtenemos las energías como el valor esperado de H en el circuito que aplica U para cada vector de la base computacional.\n",
    "    qclist=[]\n",
    "    n=len(U_matrix)\n",
    "    N_sites=int(np.log2(n))\n",
    "    obs=SparsePauliOp.from_operator(Operator(H_matrix))\n",
    "    for i in range(n):\n",
    "        # Construimos el circuito\n",
    "        qc=QuantumCircuit(N_sites)\n",
    "        qc.initialize(i)\n",
    "        qc=qc.compose(U_bound)\n",
    "        # Añadimos a la lista el circuito con el observable.\n",
    "        qclist.append((qc,obs))\n",
    "\n",
    "    # Para calcular el valor esperado, necesitamos el Estimator.\n",
    "    estimator = StatevectorEstimator()\n",
    "    job = estimator.run(qclist)\n",
    "    Energies=np.zeros(n)\n",
    "    for i in range(n):\n",
    "        # Las energías se corresponden con los valores del observable para cada circuito.\n",
    "        Energies[i]=job.result()[i].data.evs.item()\n",
    "    \n",
    "    # Obtenemos el TFD a partir de estas energías y de la matriz U.\n",
    "    TFD, _ = get_TFD(beta, U_matrix, np.conj(U_matrix), Energies)\n",
    "    sTFD = ss.csr_matrix(TFD)\n",
    "    # Obtenemos el valor esperado de la energía del hamiltoniano total en el estado dado por el TFD obtenido.\n",
    "    total_energy = np.real(np.dot(np.conj(sTFD), np.dot(H_tot_matrix, sTFD.T)))[0,0]\n",
    "    \n",
    "    if cllbck is not None:\n",
    "        cllbck(x, U_matrix)\n",
    "    return total_energy\n",
    "    \n",
    "def callback(x):\n",
    "    global x_arr\n",
    "    x_arr.append(x)\n",
    "\n",
    "# Función que calcula el valor de la energía libre.\n",
    "def free_energy(x, ansatz_U, beta, H_matrix, H_tot_matrix, cllbck = None):\n",
    "    U_bound = ansatz_U.assign_parameters(x) # Dado un vector de parámetros, los asigna al operador unitario equivalente al circuito.\n",
    "    U_matrix = Operator(U_bound).data # Obtenemos la matriz de este operador.\n",
    "\n",
    "    # Obtenemos las energías como el valor esperado de H en el circuito que aplica U para cada vector de la base computacional.\n",
    "    qclist=[]\n",
    "    n=len(U_matrix)\n",
    "    N_sites=int(np.log2(n))\n",
    "    obs=SparsePauliOp.from_operator(Operator(H_matrix))\n",
    "    for i in range(n):\n",
    "        # Construimos el circuito\n",
    "        qc=QuantumCircuit(N_sites)\n",
    "        qc.initialize(i)\n",
    "        qc=qc.compose(U_bound)\n",
    "        # Añadimos a la lista el circuito con el observable.\n",
    "        qclist.append((qc,obs))\n",
    "\n",
    "    # Para calcular el valor esperado, necesitamos el Estimator.\n",
    "    estimator = StatevectorEstimator()\n",
    "    job = estimator.run(qclist)\n",
    "    Energies=np.zeros(n)\n",
    "    for i in range(n):\n",
    "        # Las energías se corresponden con los valores del observable para cada circuito.\n",
    "        Energies[i]=job.result()[i].data.evs.item()\n",
    "        \n",
    "    # Obtenemos el valor de la energía libre.\n",
    "    energia_libre=-sum(np.exp(-beta*Energies))/beta\n",
    "    \n",
    "    if cllbck is not None:\n",
    "        cllbck(x, U_matrix)\n",
    "    return energia_libre"
   ]
  },
  {
   "cell_type": "code",
   "execution_count": 67,
   "id": "44e78ee9-7c8d-4015-bb1a-ec8442fec43a",
   "metadata": {
    "jupyter": {
     "source_hidden": true
    }
   },
   "outputs": [],
   "source": [
    "# Función que crea el circuito que usamos como ansatz.\n",
    "def ansatz_U(qubit_op,N_sites, reps=1):\n",
    "    ansatz_U = QuantumCircuit(N_sites) # Creamos nuestro circuito de N spines\n",
    "    # Obtenemos los grupos de conmutación de nuestro operador de espines, así como los términos con un solo operador Z.\n",
    "    groups=qubit_op.group_commuting()\n",
    "    group_cuadratic=filter_single_z_terms(qubit_op)\n",
    "    count = 0\n",
    "\n",
    "    # Aplicamos tantas repeticiones como se nos diga del circuito. Primero, se aplican bloques correspondientes a todos los grupos de conmutación\n",
    "    # y, después, se aplica un bloque extra correspondiente a los términos con un solo operador Z.\n",
    "    for r in range(reps):\n",
    "        for d in range(len(groups)):\n",
    "            ansatz_U.append(PauliEvolutionGate(groups[len(groups)-d-1], Parameter('t['+ str(count) + ']'), synthesis=ME), range(N_sites))\n",
    "            count += 1\n",
    "        ansatz_U.append(PauliEvolutionGate(group_cuadratic, Parameter('t['+ str(count) + ']'), synthesis=ME), range(N_sites))\n",
    "        count += 1\n",
    "    return ansatz_U"
   ]
  },
  {
   "cell_type": "code",
   "execution_count": 68,
   "id": "92ce93c9-bd9f-4462-b647-abcfad4eaa29",
   "metadata": {
    "jupyter": {
     "source_hidden": true
    }
   },
   "outputs": [],
   "source": [
    "# Clases que nos permitirán representar el espectro, proporcionadas por Mestrelab.\n",
    "class SpinSystem:\n",
    "  def __init__(self):\n",
    "    self.nucs = []\n",
    "    self.jlist = []\n",
    "    self.level =1\n",
    "    \n",
    "  def addNuc(self,name,shift):\n",
    "      tn = nucleus(name,shift);\n",
    "      self.nucs.append(tn)\n",
    "      \n",
    "  def addJ(self,name1,name2,j):\n",
    "      tn = coupling(name1,name2,j);\n",
    "      self.jlist.append(tn)\n",
    "    \n",
    "class nucleus:\n",
    "    def __init__(self,name,shift):\n",
    "      self.name = name\n",
    "      self.shift = shift\n",
    "      \n",
    "class coupling:\n",
    "    def __init__(self,name1,name2,j):\n",
    "      self.name1 = name1\n",
    "      self.name2=name2\n",
    "      self.j = j\n",
    "        \n",
    "class NMRSimulator:\n",
    "    E= np.matrix([[1, 0],[0, 1]])\n",
    "    Ix = np.matrix([[0, 1/2],[1/2, 0]])\n",
    "    Iy= np.matrix([[0, -1J/2], [1J/2, 0]])\n",
    "    Iz = np.matrix([[1/2,0],[0,-1/2]])   \n",
    "      \n",
    "    def __init__(self):\n",
    "      #std operators        \n",
    "  \n",
    "\n",
    "      # SET SIM parameters here\n",
    "      self.field =400   \n",
    "      self.swp = 10\n",
    "      self.setOffsetPPM( 5)\n",
    "      self.setTD(2**14)\n",
    "      self.setT2(2);\n",
    "      self.debug=False\n",
    "      #self.noise=1/2000\n",
    "      self.nucleus=\"1H\"\n",
    "      \n",
    "    def setField(self,field):\n",
    "        self.field=field\n",
    "        self.offsetH = self.offset*self.field\n",
    "        \n",
    "    def setSWPPM(self,swp): \n",
    "        self.swp=swp\n",
    "        self.swh=swp*self.field\n",
    "        self.dw=1/self.swh\n",
    "        \n",
    "    def setOffsetPPM(self,offset):\n",
    "        self.offset=offset\n",
    "        self.offsetH = self.offset*self.field\n",
    "        \n",
    "    def setTD(self,td):\n",
    "        self.td=int(td)\n",
    "        \n",
    "    def setT2(self, t2):\n",
    "        self.t2=t2\n",
    "      \n",
    "    def getOperator (op, n):\n",
    "        for i in range(n):\n",
    "            if i==0:\n",
    "                h=op\n",
    "            else:\n",
    "                h=NMRSimulator.E\n",
    "            for j in range (1,n):\n",
    "                if i==j:\n",
    "                    h2=op\n",
    "                else:\n",
    "                    h2=NMRSimulator.E\n",
    "                h=np.kron(h,h2)\n",
    "            if(i==0):\n",
    "                H=h\n",
    "            else:\n",
    "                H=H+h\n",
    "        return H;\n",
    "    \n",
    "      \n",
    "    def makeHamiltonian(self, ss):\n",
    "        for n in ss.nucs:\n",
    "            ind = ss.nucs.index(n)\n",
    "            #print('nuc ' + n.name + ' ' +  str(ind))\n",
    "            if ind==0:\n",
    "                h=NMRSimulator.Iz\n",
    "            else:\n",
    "                h=NMRSimulator.E\n",
    "            for i in range (1,len(ss.nucs)):\n",
    "                if ind==i:\n",
    "                    h2=NMRSimulator.Iz\n",
    "                else:\n",
    "                    h2=NMRSimulator.E\n",
    "                h=np.kron(h,h2)\n",
    "            h = h * np.pi*2 * (n.shift * self.field - self.offsetH)\n",
    "            if(ind==0):\n",
    "                H=h\n",
    "            else:\n",
    "                H=H+h\n",
    "            \n",
    "        #print('done nucs')\n",
    "        for j in ss.jlist:\n",
    "            ind1 = NMRSimulator.getIndexForName(j.name1, ss.nucs)\n",
    "            ind2 = NMRSimulator.getIndexForName(j.name2, ss.nucs)\n",
    "            #print (str(ind1) + '   ' + str(ind2))\n",
    "            if ind1==0 or ind2==0:\n",
    "                hx=NMRSimulator.Ix\n",
    "                hy=NMRSimulator.Iy\n",
    "                hz=NMRSimulator.Iz\n",
    "                #print('ind0 hx')\n",
    "            else:\n",
    "                hx=NMRSimulator.E\n",
    "                hy=NMRSimulator.E\n",
    "                hz=NMRSimulator.E\n",
    "                #print('ind0 E')\n",
    "            for i in range (1,len(ss.nucs)):\n",
    "                if ind1==i or ind2==i:\n",
    "                    hx2=NMRSimulator.Ix\n",
    "                    hy2=NMRSimulator.Iy\n",
    "                    hz2=NMRSimulator.Iz\n",
    "                    #print('indi hx')\n",
    "                else:\n",
    "                    hx2=NMRSimulator.E\n",
    "                    hy2=NMRSimulator.E\n",
    "                    hz2=NMRSimulator.E\n",
    "                    #print('indi E')\n",
    "                hx=np.kron(hx,hx2)\n",
    "                hy=np.kron(hy,hy2)\n",
    "                hz=np.kron(hz,hz2)\n",
    "            H= H + 2*np.pi*j.j*(hx + hy + hz)\n",
    "        return H\n",
    "\n",
    "    def getIndexForName(name, nucs):\n",
    "        for l in nucs:\n",
    "            ind = nucs.index(l)\n",
    "            if(l.name == name):\n",
    "                return ind;\n",
    "        \n",
    "\n",
    "        \n",
    "    def simSpinSystem(self, ss):\n",
    "        H = self.makeHamiltonian(ss)\n",
    "        m0 = NMRSimulator.getOperator(NMRSimulator.Ix,len(ss.nucs))\n",
    "        IxT = m0\n",
    "        IyT = NMRSimulator.getOperator(NMRSimulator.Iy,len(ss.nucs))\n",
    "        vals,vecs = LA.eigh(H)\n",
    "        vecsi = LA.inv(vecs)\n",
    "        diag = np.diag(vals)\n",
    "        fidr  = np.empty(self.td);\n",
    "        fidi  = np.empty(self.td);\n",
    "        t = np.empty(self.td);\n",
    "        ff = self.t2/(2*np.pi)\n",
    "\n",
    "        fac = ss.level / 2**len(ss.nucs)    \n",
    "        mMat = vecsi @ m0 @ vecs\n",
    "        if(self.debug):\n",
    "            print('made matrices ' + str(time.process_time() - self.start))\n",
    "        for x in range (self.td):\n",
    "            t[x]=x*self.dw\n",
    "            tm =  vecs @ expm(-1J * t[x] * diag) @ mMat @ expm(1J * t[x] * diag) @ vecsi\n",
    "            fac2 =  np.exp(-x*self.dw/ff) * fac\n",
    "            fidr[x] = np.real(np.trace(tm*IxT) * fac2)\n",
    "            fidi[x] = np.real(np.trace(tm*IyT) * fac2)\n",
    "        if(self.debug):\n",
    "            print('made fid ' + str(time.process_time() - self.start))\n",
    "        return fidr,fidi,tm, vals, vecs\n",
    "    \n",
    "    def simSpinSystemQuantum(self, ss, vals, vecs, m_x, m_y):\n",
    "    \n",
    "        m0 = m_x\n",
    "        IxT = m_x\n",
    "        IyT = m_y\n",
    "        \n",
    "        vecsi = LA.inv(vecs)\n",
    "        diag = np.diag(vals)\n",
    "        fidr  = np.empty(self.td);\n",
    "        fidi  = np.empty(self.td);\n",
    "        t = np.empty(self.td);\n",
    "        ff = self.t2/(2*np.pi)\n",
    "        fac = ss.level / 2**len(ss.nucs)    \n",
    "        mMat = vecsi @ m0 @ vecs\n",
    "        if(self.debug):\n",
    "            print('made matrices ' + str(time.process_time() - self.start))\n",
    "        for x in range (self.td):\n",
    "            t[x]=x*self.dw\n",
    "            tm = vecs @ expm(-1J * t[x] * diag) @ mMat @ expm(1J * t[x] * diag) @ vecsi\n",
    "            fac2 =  np.exp(-x*self.dw/ff) * fac\n",
    "            fidr[x] = np.real(np.trace(tm @ IxT) * fac2)\n",
    "            fidi[x] = np.real(np.trace(tm @ IyT) * fac2)\n",
    "        if(self.debug):\n",
    "            print('made fid ' + str(time.process_time() - self.start))\n",
    "        return fidr,fidi,tm, vals, vecs\n",
    "    \n",
    "#    def getNoise(self):\n",
    "#        u = random.random(); \n",
    "#        v = random.random();\n",
    "#        return math.sqrt(-2.0 * math.log(u)) * math.cos(2.0 * np.pi * v) * self.noise;\n",
    "#    \n",
    "#    def addNoise(self,re,im):\n",
    "#        for i in range(len(re)):\n",
    "#            re[i]=re[i]+self.getNoise()\n",
    "#            im[i]=im[i]+self.getNoise()\n",
    "\n",
    "    def simSpectrum(self, sss, sc=1.0, b=0.0):\n",
    "\n",
    "        fidrSum  = np.zeros(self.td);\n",
    "        fidiSum  = np.zeros(self.td);\n",
    "        self.start = time.process_time()\n",
    "        for ss in sss: \n",
    "            fidr,fidi,tm, vals, vecs = self.simSpinSystem(ss)\n",
    "            fidrSum = fidr + fidrSum\n",
    "            fidiSum = fidi + fidiSum\n",
    "        \n",
    "        fidrSum  = fidrSum * sc \n",
    "        fidiSum = fidiSum * sc\n",
    "        \n",
    "        #self.addNoise(fidrSum,fidiSum)\n",
    "        spcr = fft(fidrSum)\n",
    "        spci = fft(fidiSum)\n",
    "        if(self.debug):\n",
    "            print('done fft ' + str(time.process_time() - self.start))\n",
    "        spc = spcr-1J*spci\n",
    "        spcOut = np.empty(self.td);\n",
    "        fs = np.empty(self.td);\n",
    "        td2 =int(self.td/2)\n",
    "        for i in range(td2):\n",
    "            spcOut[td2+i]=np.real(spc[i])\n",
    "            spcOut[i] =np.real(spc[td2+i])\n",
    "            fs[i] = (1/self.dw/2 - i/td2/self.dw/2)/self.field + self.offset\n",
    "            fs[self.td-i-1]=(-1/self.dw/2 + i/td2/self.dw/2) / self.field + self.offset\n",
    "        if(self.debug):\n",
    "            print('all done ' + str(time.process_time() - self.start))\n",
    "        spcOut = spcOut - np.amin(spcOut)\n",
    "        spcOut = spcOut + b\n",
    "        return spcOut,fs, vals, vecs\n",
    "    \n",
    "    def simSpectrumQuantum(self, sss, vals, vecs, m_x, m_y, sc=1.0, b=0.0):\n",
    "\n",
    "        fidrSum  = np.zeros(self.td);\n",
    "        fidiSum  = np.zeros(self.td);\n",
    "        self.start = time.process_time()\n",
    "        for ss in sss: \n",
    "            fidr,fidi,tm, vals, vecs = self.simSpinSystemQuantum(ss, vals, vecs, m_x, m_y)\n",
    "            fidrSum = fidr + fidrSum\n",
    "            fidiSum = fidi + fidiSum\n",
    "        \n",
    "        fidrSum  = fidrSum * sc \n",
    "        fidiSum = fidiSum * sc\n",
    "        \n",
    "        #self.addNoise(fidrSum,fidiSum)\n",
    "        spcr = fft(fidrSum)\n",
    "        spci = fft(fidiSum)\n",
    "        if(self.debug):\n",
    "            print('done fft ' + str(time.process_time() - self.start))\n",
    "        spc = spcr-1J*spci\n",
    "        spcOut = np.empty(self.td);\n",
    "        fs = np.empty(self.td);\n",
    "        td2 =int(self.td/2)\n",
    "        for i in range(td2):\n",
    "            spcOut[td2+i]=np.real(spc[i])\n",
    "            spcOut[i] = np.real(spc[td2+i])\n",
    "            fs[i] = (1/self.dw/2 - i/td2/self.dw/2)/self.field + self.offset\n",
    "            fs[self.td-i-1]=(-1/self.dw/2 + i/td2/self.dw/2) / self.field + self.offset\n",
    "        if(self.debug):\n",
    "            print('all done ' + str(time.process_time() - self.start))\n",
    "        spcOut = spcOut - np.amin(spcOut)\n",
    "        spcOut = spcOut + b\n",
    "        return spcOut,fs, vals, vecs"
   ]
  },
  {
   "cell_type": "code",
   "execution_count": 69,
   "id": "efc263c6-0c76-48a4-988c-5601d640b393",
   "metadata": {
    "jupyter": {
     "source_hidden": true
    }
   },
   "outputs": [],
   "source": [
    "# Funciones que nos permitirán crear la magnetizacion.\n",
    "def local_spin_x(N_sites):\n",
    "    ham=[]\n",
    "    for i in range(0,N_sites):\n",
    "        string='I'*i+'X'+'I'*(N_sites-1-i)\n",
    "        ham.append(string)\n",
    "    return ham\n",
    "\n",
    "def local_spin_y(N_sites):\n",
    "    ham=[]\n",
    "    for i in range(0,N_sites):\n",
    "        string='I'*i+'Y'+'I'*(N_sites-1-i)\n",
    "        ham.append(string)\n",
    "    return ham"
   ]
  },
  {
   "cell_type": "code",
   "execution_count": 70,
   "id": "5562210b-0b81-4ed6-b860-df0bd89e7f0d",
   "metadata": {
    "jupyter": {
     "source_hidden": true
    }
   },
   "outputs": [],
   "source": [
    "# Función que transforma la magnetización según la matriz dada por la transformada de Bogoliubov.\n",
    "def transform_M(T,Mx,My):\n",
    "    T_conj=T\n",
    "    # Transformamos la matrix dada a operadores fermiónicos mediante una Jordan-Wigner inversa.\n",
    "    mag_fx=reverse_map(Mx)\n",
    "    mag_fy=reverse_map(My)\n",
    "    \n",
    "    mag_new_x=transform_fermionic_op(mag_fx,T,T_conj)\n",
    "    mag_new_y=transform_fermionic_op(mag_fy,T,T_conj)\n",
    "    # Aplicamos una transformación de Jordan-Wigner sobre el operador fermiónico transformado para devolverlo a su expresión en operadores de espín.\n",
    "    mag_mom_x=JW.map(mag_new_x.simplify()).chop(1e-6)\n",
    "    mag_mom_y=JW.map(mag_new_y.simplify()).chop(1e-6)\n",
    "    return mag_mom_x,mag_mom_y#, mag_fy"
   ]
  },
  {
   "cell_type": "code",
   "execution_count": 71,
   "id": "bce035cc-748c-452a-b3e0-55b7649ccc14",
   "metadata": {
    "jupyter": {
     "source_hidden": true
    }
   },
   "outputs": [],
   "source": [
    "# Definimos la función que representa el espectro obtenido frente al teórico.\n",
    "def reprSpectrum(shifts,J,d,SW,B,offset,energ,U,T,xlim=None,ylim=None,reprteo=True):\n",
    "    # Construimos el SpinSystem asociado, añadiendo los shifts primero y los acoplamientos J después.\n",
    "    sscase = SpinSystem()\n",
    "    n=len(shifts)\n",
    "    for i in range(n):\n",
    "        sscase.addNuc(str(i), shifts[i])\n",
    "    k=0\n",
    "    for i in range(n):\n",
    "        for j in range(i+1,n):\n",
    "            sscase.addJ(str(i), str(j), J[k])\n",
    "            k+=1\n",
    "    sscase.level=1\n",
    "\n",
    "    # Construimos las matrices de las magnetizaciones\n",
    "    m_x=SparsePauliOp(local_spin_x(n),coeffs=0.5)\n",
    "    m_y=SparsePauliOp(local_spin_y(n),coeffs=0.5)\n",
    "\n",
    "    # Transformamos las matrices a la base correspondiente.\n",
    "    mag_x, mag_y=transform_M(T,m_x,m_y)\n",
    "    \n",
    "    # Construimos el simulador NMR\n",
    "    nmrsim = NMRSimulator()\n",
    "    nmrsim.setField(B)\n",
    "    nmrsim.setTD(d) # Resolución del espectro\n",
    "    nmrsim.setSWPPM(SW) # Ancho espectral\n",
    "    nmrsim.setOffsetPPM(offset)\n",
    "    nmrsim.setT2(2.0)\n",
    "    sss = []\n",
    "    sss.append(sscase)\n",
    "    # Calculamos el espectro a partir de las energías y la matriz U dadas\n",
    "    spcOut, fs, v, w = nmrsim.simSpectrumQuantum(sss, energ, U, mag_x.to_matrix(),mag_y.to_matrix())\n",
    "    # Calculamos el espectro teórico\n",
    "    spcOutteo, fsteo, v, w= nmrsim.simSpectrum(sss)\n",
    "    # Representamos ambos espectros para comparar.\n",
    "    if reprteo:\n",
    "        plt.plot(fsteo, spcOutteo,'-', label='Theoretical Spectrum', color='red',lw=2)\n",
    "    plt.plot(fs, spcOut, '-', label='Experimental Spectrum', color='black',alpha=0.8)\n",
    "    if xlim is not None:\n",
    "        plt.xlim(xlim[0],xlim[1])\n",
    "    if ylim is not None:\n",
    "        plt.ylim(ylim[0],ylim[1])\n",
    "    plt.legend()\n",
    "    plt.show()"
   ]
  },
  {
   "cell_type": "code",
   "execution_count": 116,
   "id": "e9495014-949a-4a5f-bae1-f6e505237261",
   "metadata": {},
   "outputs": [],
   "source": [
    "# Función que realiza la minimización para un hamiltoniano dado (en base de espines) y unos valores de beta. \n",
    "# La función que se minimiza puede escogerse con el argumento function.\n",
    "def minimize_function(H, function, betas, alpha):\n",
    "\n",
    "    # Obtenemos el número de espines correspondiente al hamiltoniano dado.\n",
    "    N_sites=H.num_qubits\n",
    "    # Transformamos la descomposición obtenida a operadores fermiónicos mediante una Jordan-Wigner inversa.\n",
    "    fermionic_op= reverse_map(H)\n",
    "\n",
    "\n",
    "    # Creamos la matriz que guardará los coeficientes de la parte cuadrática del operador fermiónico. \n",
    "    num_spin_orbitals = fermionic_op.num_spin_orbitals\n",
    "    h1 = np.zeros((num_spin_orbitals, num_spin_orbitals), dtype=np.complex128)\n",
    "    \n",
    "    # Extraemos términos cuadráticos.\n",
    "    for term, coeff in fermionic_op.items():\n",
    "        if term.count('+') == 1 and term.count('-') == 1:  # Verifica que tenga un operador de creación y uno de destrucción\n",
    "            # Extraer los índices y los signos de los operadores\n",
    "            indices = [int(t[2]) for t in term.split()]\n",
    "            signs = [t[0] for t in term.split()]\n",
    "            \n",
    "            # Determinar las posiciones en la matriz según los signos\n",
    "            if signs == ['+', '-']:  # Caso +_i -_j\n",
    "                h1[indices[0], indices[1]] += coeff\n",
    "            elif signs == ['-', '+']:  # Caso -_i +_j\n",
    "                h1[indices[1], indices[0]] -= coeff  # Cambiar el signo del coeficiente\n",
    "\n",
    "    # Obtenemos la matriz de cambio de base a una en la que la parte cuadrática sea diagonal mediante la transformación de Bogoliubov.\n",
    "    # También obtenemos los valores diagonales, las energías orbitales.\n",
    "    hamiltonian = QuadraticHamiltonian(\n",
    "        hermitian_part=h1,\n",
    "        constant=0)\n",
    "    (transformation_matrix,\n",
    "        orbital_energies,\n",
    "        transformed_constant,\n",
    "    ) = hamiltonian.diagonalizing_bogoliubov_transform()\n",
    "    \n",
    "    # Definimos la matriz de transformación\n",
    "    T =transformation_matrix\n",
    "    # Obtener la matriz conjugada transpuesta para transformar operadores de destrucción\n",
    "    T_conj=T\n",
    "    # T_conj = np.array(np.matrix(transformation_matrix).getH())\n",
    "    # Transformamos el FermionicOp a la nueva base.\n",
    "    fermionic_op_new = transform_fermionic_op(fermionic_op, T, T_conj)\n",
    "\n",
    "    # Multiplicamos por alpha la parte no cuadrática.\n",
    "    new_op_data = {}\n",
    "    for term, coeff in fermionic_op_new.items():\n",
    "        if term.count('+') > 1 and term.count('-') > 1:  # Verifica que tenga más de un operador de creación y uno de destrucción\n",
    "            new_op_data[term]=coeff*alpha\n",
    "        else:\n",
    "            new_op_data[term]=coeff\n",
    "    fermionic_op_alpha=FermionicOp(new_op_data, num_spin_orbitals=N_sites)\n",
    "\n",
    "    # Obtenemos los términos diagonales cuadráticos teniendo en cuenta lo que aporten a estos el cambio de base de los cuadráticos\n",
    "    orbital_energies=np.array([np.real(fermionic_op_alpha['+_'+str(i)+' '+'-_'+str(i)]) for i in range(N_sites)])\n",
    "    \n",
    "    # Dividimos por un factor las energías orbitales para evitar problemas numéricos.\n",
    "    factor=1000\n",
    "    omega=orbital_energies/factor\n",
    "\n",
    "    # Aplicamos una transformación de Jordan-Wigner sobre el operador fermiónico transformado para devolverlo a su expresión en operadores de espín.\n",
    "    qubit_op=JW.map(fermionic_op_alpha.simplify()).chop(1e-6)\n",
    "    # Construimos el ansatz a partir de este operador.\n",
    "    ansatz=ansatz_U(qubit_op,N_sites)\n",
    "    gate_number = ansatz.num_parameters\n",
    "\n",
    "    # Obtenemos los valores teóricos de energías y autovectores asociados para comparar posteriormente los resultados obtenidos.\n",
    "    H_q=qubit_op/factor\n",
    "    H_matrix = H_q.to_matrix()\n",
    "    E_L, U_L = np.linalg.eigh(H_matrix)\n",
    "    \n",
    "    # Creamos los hamiltonianos H_L y H_R\n",
    "    identity = SparsePauliOp.from_list([('I'*N_sites, 1)])\n",
    "    H_L = H_q^identity                 # H_L = H \\otimes I\n",
    "    H_R = (identity^H_q).conjugate()   # H_R = I \\otimes H*\n",
    "\n",
    "    # Creamos un vector en el que vamos a guardar los valores de los overlaps y del número de iteraciones realizadas para cada valor de beta.\n",
    "    overlaps_TFD = np.zeros(len(betas))\n",
    "\n",
    "    # También creamos listas donde vamos a guardar los valores de las energías.\n",
    "    energ=[]\n",
    "\n",
    "    # Realizamos la minimización para cada valor de beta dado.\n",
    "    for i, beta in enumerate(betas):\n",
    "        # Creamos el hamiltoniano de interacción\n",
    "        H_int_q = quita_Z(JW.map(create_H_int(beta, omega, N_sites)))\n",
    "        \n",
    "        # Creamos el hamiltoniano total\n",
    "        H_tot = H_L + H_R + H_int_q\n",
    "        H_tot_matrix = H_tot.to_matrix(sparse=True)\n",
    "        H_tot_matrix.eliminate_zeros()\n",
    "    \n",
    "        # Calculamos el TFD teórico\n",
    "        TFD_exact = get_TFD(beta, U_L, np.conj(U_L), E_L)[0]\n",
    "        \n",
    "        x0 = 10**-1*np.random.random(gate_number)\n",
    "\n",
    "        # Realizamos la minimización de la función elegida como parámetro.\n",
    "        min_result = minimize(function, x0=x0, args=(ansatz, beta, H_matrix, H_tot_matrix), tol=1e-10)\n",
    "\n",
    "        # Calculamos la matriz asociada al circuito unitario para los parámetros obtenidos de la minimización.\n",
    "        U_bound = ansatz.assign_parameters(min_result.x)\n",
    "        U_matrix = Operator(U_bound).data\n",
    "\n",
    "        \n",
    "        # Calculamos las energías para esa matriz y obtenemos el TFD resultado de la optimización.\n",
    "        # Obtenemos las energías como el valor esperado de H en el circuito que aplica U para cada vector de la base computacional.\n",
    "        qclist=[]\n",
    "        n=len(U_matrix)\n",
    "        N_sites=int(np.log2(n))\n",
    "        obs=SparsePauliOp.from_operator(Operator(H_matrix))\n",
    "        for j in range(n):\n",
    "            # Construimos el circuito\n",
    "            qc=QuantumCircuit(N_sites)\n",
    "            qc.initialize(j)\n",
    "            qc=qc.compose(U_bound)\n",
    "            # Añadimos a la lista el circuito con el observable.\n",
    "            qclist.append((qc,obs))\n",
    "    \n",
    "        # Para calcular el valor esperado, necesitamos el Estimator.\n",
    "        estimator = StatevectorEstimator()\n",
    "        job = estimator.run(qclist)\n",
    "        Energies=np.zeros(n)\n",
    "        for j in range(n):\n",
    "            # Las energías se corresponden con los valores del observable para cada circuito.\n",
    "            Energies[j]=job.result()[j].data.evs.item()\n",
    "        energ.append(Energies)\n",
    "        TFD_opt = get_TFD(beta, Operator(U_bound).data, np.conj(Operator(U_bound).data), Energies)[0]\n",
    "        if alpha==0:\n",
    "            print(U_matrix)\n",
    "        # Calculamos el overlap entre ambos TFD como el módulo del producto escalar de estos.\n",
    "        overlaps_TFD[i] = np.abs(np.dot(np.conj(TFD_exact), TFD_opt))\n",
    "\n",
    "    return overlaps_TFD, energ"
   ]
  },
  {
   "cell_type": "code",
   "execution_count": 85,
   "id": "d67765ba-4c4a-49f5-965b-eeca44bfab67",
   "metadata": {},
   "outputs": [],
   "source": [
    "def energysalpha0(H):\n",
    "    \n",
    "    # Obtenemos el número de espines correspondiente al hamiltoniano dado.\n",
    "    N_sites=H.num_qubits\n",
    "    # Transformamos la descomposición obtenida a operadores fermiónicos mediante una Jordan-Wigner inversa.\n",
    "    fermionic_op= reverse_map(H)\n",
    "\n",
    "\n",
    "    # Creamos la matriz que guardará los coeficientes de la parte cuadrática del operador fermiónico. \n",
    "    num_spin_orbitals = fermionic_op.num_spin_orbitals\n",
    "    h1 = np.zeros((num_spin_orbitals, num_spin_orbitals), dtype=np.complex128)\n",
    "    \n",
    "    # Extraemos términos cuadráticos.\n",
    "    for term, coeff in fermionic_op.items():\n",
    "        if term.count('+')==0 and term.count('-') == 0:\n",
    "            cte=coeff\n",
    "        if term.count('+') == 1 and term.count('-') == 1:  # Verifica que tenga un operador de creación y uno de destrucción\n",
    "            # Extraer los índices y los signos de los operadores\n",
    "            indices = [int(t[2]) for t in term.split()]\n",
    "            signs = [t[0] for t in term.split()]\n",
    "            \n",
    "            # Determinar las posiciones en la matriz según los signos\n",
    "            if signs == ['+', '-']:  # Caso +_i -_j\n",
    "                h1[indices[0], indices[1]] += coeff\n",
    "            elif signs == ['-', '+']:  # Caso -_i +_j\n",
    "                h1[indices[1], indices[0]] -= coeff  # Cambiar el signo del coeficiente\n",
    "\n",
    "    # Obtenemos la matriz de cambio de base a una en la que la parte cuadrática sea diagonal mediante la transformación de Bogoliubov.\n",
    "    # También obtenemos los valores diagonales, las energías orbitales.\n",
    "    hamiltonian = QuadraticHamiltonian(\n",
    "        hermitian_part=h1,\n",
    "        constant=cte)\n",
    "    (transformation_matrix,\n",
    "        orbital_energies,\n",
    "        transformed_constant,\n",
    "    ) = hamiltonian.diagonalizing_bogoliubov_transform()\n",
    "    energ=[]\n",
    "    n=2**N_sites\n",
    "    for i in range(n):\n",
    "        binary=format(i, '0'+str(N_sites)+'b')\n",
    "        e=transformed_constant+0\n",
    "        for j in range(N_sites):\n",
    "            if binary[N_sites-1-j]=='1':\n",
    "                e+=orbital_energies[j]\n",
    "        energ.append(e)\n",
    "    return energ"
   ]
  },
  {
   "cell_type": "code",
   "execution_count": 86,
   "id": "3cdd2de6-fcfe-44fd-a1d4-9e3f00170bae",
   "metadata": {},
   "outputs": [],
   "source": [
    "factor=1000"
   ]
  },
  {
   "cell_type": "markdown",
   "id": "f1ba4e52-5c1d-45e8-9f0b-ac90728e98b8",
   "metadata": {},
   "source": [
    "### Sulfanol"
   ]
  },
  {
   "cell_type": "code",
   "execution_count": 87,
   "id": "27fa1ea7-d7f6-480f-844b-123768425625",
   "metadata": {},
   "outputs": [],
   "source": [
    "betas = [5]"
   ]
  },
  {
   "cell_type": "code",
   "execution_count": 76,
   "id": "3412ab6e-7484-4434-ba70-ee6d4ad353fb",
   "metadata": {},
   "outputs": [],
   "source": [
    "# Construimos H para el Sulfanol.\n",
    "offset=5\n",
    "B=400\n",
    "shifts=[3.44,7.40]\n",
    "J=[2.32]\n",
    "matrizSulfanol=Hspin(shifts,J,offset,B)"
   ]
  },
  {
   "cell_type": "code",
   "execution_count": 88,
   "id": "c6379f79-aa86-4019-b80e-31b329d411c9",
   "metadata": {},
   "outputs": [
    {
     "name": "stdout",
     "output_type": "stream",
     "text": [
      "0\n",
      "[[-0.89608587-0.44388073j  0.        +0.j          0.        +0.j\n",
      "   0.        +0.j        ]\n",
      " [ 0.        +0.j         -0.42699638+0.90425333j  0.        +0.j\n",
      "   0.        +0.j        ]\n",
      " [ 0.        +0.j          0.        +0.j         -0.03359788-0.99943543j\n",
      "   0.        +0.j        ]\n",
      " [ 0.        +0.j          0.        +0.j          0.        +0.j\n",
      "  -0.9986295 +0.05233659j]]\n"
     ]
    }
   ],
   "source": [
    "results_expect, energies_expect=minimize_function(matrizSulfanol,expectation_classic,betas,0)\n",
    "energ2=energysalpha0(matrizSulfanol)"
   ]
  },
  {
   "cell_type": "code",
   "execution_count": 89,
   "id": "bb8f7647-8daa-4eb3-91b0-c8cc0734ae79",
   "metadata": {},
   "outputs": [
    {
     "data": {
      "text/plain": [
       "array([ 1059.21937908, -4979.9323483 ,  4972.64385334, -1066.50787404])"
      ]
     },
     "execution_count": 89,
     "metadata": {},
     "output_type": "execute_result"
    }
   ],
   "source": [
    "energies_expect[0]*factor"
   ]
  },
  {
   "cell_type": "code",
   "execution_count": 90,
   "id": "510a894b-9a43-46b3-9f1a-936d789752f4",
   "metadata": {},
   "outputs": [
    {
     "data": {
      "text/plain": [
       "[(1059.2193790843348+0j),\n",
       " (-4979.93234829572+0j),\n",
       " (4972.64385333939+0j),\n",
       " (-1066.5078740406639+0j)]"
      ]
     },
     "execution_count": 90,
     "metadata": {},
     "output_type": "execute_result"
    }
   ],
   "source": [
    "energ2"
   ]
  },
  {
   "cell_type": "markdown",
   "id": "4349bf1f-8e5f-4cb3-b6fc-da941845fdc2",
   "metadata": {},
   "source": [
    "### AB system"
   ]
  },
  {
   "cell_type": "code",
   "execution_count": 91,
   "id": "dd7dce00-e514-459b-8f5f-0892ef86e1f0",
   "metadata": {},
   "outputs": [],
   "source": [
    "betas = [5]"
   ]
  },
  {
   "cell_type": "code",
   "execution_count": 92,
   "id": "7c03f629-2231-497d-b02f-c7e2d18d4855",
   "metadata": {},
   "outputs": [],
   "source": [
    "# Construimos H para el sistema AB.\n",
    "offset=5\n",
    "B=400\n",
    "shifts=[1,1.025]\n",
    "J=[10]\n",
    "matrizAB=Hspin(shifts,J,offset,B)"
   ]
  },
  {
   "cell_type": "code",
   "execution_count": 93,
   "id": "7c4e0b5c-754b-4aeb-8025-67fb0fe6dd99",
   "metadata": {},
   "outputs": [
    {
     "name": "stdout",
     "output_type": "stream",
     "text": [
      "2\n",
      "[[-0.82006129-0.5722757j   0.        +0.j          0.        +0.j\n",
      "   0.        +0.j        ]\n",
      " [ 0.        +0.j         -0.99079178+0.1353944j   0.        +0.j\n",
      "   0.        +0.j        ]\n",
      " [ 0.        +0.j          0.        +0.j          0.1348465 -0.9908665j\n",
      "   0.        +0.j        ]\n",
      " [ 0.        +0.j          0.        +0.j          0.        +0.j\n",
      "  -0.57272908-0.81974471j]]\n"
     ]
    }
   ],
   "source": [
    "results_expect, energies_expect=minimize_function(matrizAB,expectation_classic,betas,0)\n",
    "energ2=energysalpha0(matrizAB)"
   ]
  },
  {
   "cell_type": "code",
   "execution_count": 94,
   "id": "962de73e-30fd-4a44-a658-3be9cdb6e20a",
   "metadata": {},
   "outputs": [
    {
     "data": {
      "text/plain": [
       "array([-10005.97260168,    -60.13679265,     28.72086611,   9974.55667515])"
      ]
     },
     "execution_count": 94,
     "metadata": {},
     "output_type": "execute_result"
    }
   ],
   "source": [
    "energies_expect[0]*factor"
   ]
  },
  {
   "cell_type": "code",
   "execution_count": 95,
   "id": "8ba2f000-8383-46f5-a345-326b198d9b10",
   "metadata": {},
   "outputs": [
    {
     "data": {
      "text/plain": [
       "[(-10005.97260168349+0j),\n",
       " (-60.136792649531344+0j),\n",
       " (28.720866113635566+0j),\n",
       " (9974.556675147594+0j)]"
      ]
     },
     "execution_count": 95,
     "metadata": {},
     "output_type": "execute_result"
    }
   ],
   "source": [
    "energ2"
   ]
  },
  {
   "cell_type": "markdown",
   "id": "f41aafa0-2a7e-4b6b-91c9-20835f64182d",
   "metadata": {},
   "source": [
    "### AX system"
   ]
  },
  {
   "cell_type": "code",
   "execution_count": 96,
   "id": "53a12fa7-9467-4592-b3f7-a12afc68322e",
   "metadata": {},
   "outputs": [],
   "source": [
    "betas = [5]"
   ]
  },
  {
   "cell_type": "code",
   "execution_count": 97,
   "id": "a80a160b-a73d-4535-82e9-9d2ade6d7433",
   "metadata": {},
   "outputs": [],
   "source": [
    "# Construimos H para el sistema AX.\n",
    "offset=5\n",
    "B=400\n",
    "shifts=[1,1.2]\n",
    "J=[4]\n",
    "matrizAX=Hspin(shifts,J,offset,B)"
   ]
  },
  {
   "cell_type": "code",
   "execution_count": 98,
   "id": "378cd572-d3b3-444b-a940-5a86db2a4b48",
   "metadata": {},
   "outputs": [
    {
     "name": "stdout",
     "output_type": "stream",
     "text": [
      "1\n",
      "[[-0.67574753+0.73713315j  0.        +0.j          0.        +0.j\n",
      "   0.        +0.j        ]\n",
      " [ 0.        +0.j         -0.61243819-0.79051848j  0.        +0.j\n",
      "   0.        +0.j        ]\n",
      " [ 0.        +0.j          0.        +0.j         -0.43337123-0.9012155j\n",
      "   0.        +0.j        ]\n",
      " [ 0.        +0.j          0.        +0.j          0.        +0.j\n",
      "   0.96145421-0.2749651j ]]\n"
     ]
    }
   ],
   "source": [
    "results_expect, energies_expect=minimize_function(matrizAX,expectation_classic,betas,0)\n",
    "energ2=energysalpha0(matrizAX)"
   ]
  },
  {
   "cell_type": "code",
   "execution_count": 99,
   "id": "8e733097-7d15-41bd-986e-b6f6573f9693",
   "metadata": {},
   "outputs": [
    {
     "data": {
      "text/plain": [
       "array([-9795.48589389,  -257.92456076,   245.35819014,  9782.91952328])"
      ]
     },
     "execution_count": 99,
     "metadata": {},
     "output_type": "execute_result"
    }
   ],
   "source": [
    "energies_expect[0]*factor"
   ]
  },
  {
   "cell_type": "code",
   "execution_count": 100,
   "id": "83017378-f09a-4779-bfe4-515682bc1149",
   "metadata": {},
   "outputs": [
    {
     "data": {
      "text/plain": [
       "[(-9795.485893892976+0j),\n",
       " (-257.9245607552348+0j),\n",
       " (245.3581901408761+0j),\n",
       " (9782.919523278617+0j)]"
      ]
     },
     "execution_count": 100,
     "metadata": {},
     "output_type": "execute_result"
    }
   ],
   "source": [
    "energ2"
   ]
  },
  {
   "cell_type": "markdown",
   "id": "f948945f-eefb-4247-8fd0-27f06fbb225d",
   "metadata": {},
   "source": [
    "### AMX system"
   ]
  },
  {
   "cell_type": "code",
   "execution_count": 101,
   "id": "bd75a865-162d-4daf-87a6-c3e8e78804dd",
   "metadata": {},
   "outputs": [],
   "source": [
    "betas = [5]"
   ]
  },
  {
   "cell_type": "code",
   "execution_count": 102,
   "id": "a0ef3a51-680c-4a35-9617-47d822697b8c",
   "metadata": {},
   "outputs": [],
   "source": [
    "# Construimos H para el sistema AMX.\n",
    "offset=5\n",
    "B=400\n",
    "shifts=[1,1.2,1.5]\n",
    "J=[3,10,8]\n",
    "matrizAMX=Hspin(shifts,J,offset,B)"
   ]
  },
  {
   "cell_type": "code",
   "execution_count": 103,
   "id": "2e481a17-24fa-4cb4-8e87-70a232019414",
   "metadata": {},
   "outputs": [
    {
     "name": "stdout",
     "output_type": "stream",
     "text": [
      "1\n",
      "[[ 0.09529944+0.99544865j  0.        +0.j          0.        +0.j\n",
      "   0.        +0.j          0.        +0.j          0.        +0.j\n",
      "   0.        +0.j          0.        +0.j        ]\n",
      " [ 0.        +0.j          0.86739068+0.49762778j  0.        +0.j\n",
      "   0.        +0.j          0.        +0.j          0.        +0.j\n",
      "   0.        +0.j          0.        +0.j        ]\n",
      " [ 0.        +0.j          0.        +0.j          0.79904562-0.6012704j\n",
      "   0.        +0.j          0.        +0.j          0.        +0.j\n",
      "   0.        +0.j          0.        +0.j        ]\n",
      " [ 0.        +0.j          0.        +0.j          0.        +0.j\n",
      "  -0.02878006-0.99958577j  0.        +0.j          0.        +0.j\n",
      "   0.        +0.j          0.        +0.j        ]\n",
      " [ 0.        +0.j          0.        +0.j          0.        +0.j\n",
      "   0.        +0.j          0.97810473+0.20811326j  0.        +0.j\n",
      "   0.        +0.j          0.        +0.j        ]\n",
      " [ 0.        +0.j          0.        +0.j          0.        +0.j\n",
      "   0.        +0.j          0.        +0.j          0.73519317-0.67785766j\n",
      "   0.        +0.j          0.        +0.j        ]\n",
      " [ 0.        +0.j          0.        +0.j          0.        +0.j\n",
      "   0.        +0.j          0.        +0.j          0.        +0.j\n",
      "  -0.33348726-0.94275461j  0.        +0.j        ]\n",
      " [ 0.        +0.j          0.        +0.j          0.        +0.j\n",
      "   0.        +0.j          0.        +0.j          0.        +0.j\n",
      "   0.        +0.j         -0.96206978-0.27280347j]]\n"
     ]
    }
   ],
   "source": [
    "results_expect, energies_expect=minimize_function(matrizAMX,expectation_classic,betas,0)\n",
    "energ2=energysalpha0(matrizAMX)"
   ]
  },
  {
   "cell_type": "code",
   "execution_count": 104,
   "id": "d5967989-9571-430d-b503-32b50ce7da6e",
   "metadata": {},
   "outputs": [
    {
     "data": {
      "text/plain": [
       "array([-14167.01207136,  -5428.67353922,  -4650.53387587,   4087.80465627,\n",
       "        -4153.77810199,   4584.56043014,   5362.7000935 ,  14101.03862564])"
      ]
     },
     "execution_count": 104,
     "metadata": {},
     "output_type": "execute_result"
    }
   ],
   "source": [
    "energies_expect[0]*factor"
   ]
  },
  {
   "cell_type": "code",
   "execution_count": 105,
   "id": "cac60119-4000-4717-9cef-865657ca89d0",
   "metadata": {},
   "outputs": [
    {
     "data": {
      "text/plain": [
       "[(-14167.012071363175+0j),\n",
       " (-5428.673539223928+0j),\n",
       " (-4650.533875870249+0j),\n",
       " (4087.804656268998+0j),\n",
       " (-4153.77810199439+0j),\n",
       " (4584.560430144857+0j),\n",
       " (5362.700093498535+0j),\n",
       " (14101.038625637782+0j)]"
      ]
     },
     "execution_count": 105,
     "metadata": {},
     "output_type": "execute_result"
    }
   ],
   "source": [
    "energ2"
   ]
  },
  {
   "cell_type": "markdown",
   "id": "b0bd5d8a-f7e9-420a-b9fd-44b4ca664c81",
   "metadata": {},
   "source": [
    "### ABX system"
   ]
  },
  {
   "cell_type": "code",
   "execution_count": 106,
   "id": "8cb3dded-35f9-45c3-930e-c2a2412f2480",
   "metadata": {},
   "outputs": [],
   "source": [
    "betas = [5]"
   ]
  },
  {
   "cell_type": "code",
   "execution_count": 107,
   "id": "0743184a-9edc-4242-9e7e-f12accfb2dd9",
   "metadata": {},
   "outputs": [],
   "source": [
    "# Construimos H para el sistema ABX.\n",
    "offset=5\n",
    "B=400\n",
    "shifts=[1,1.025,1.5]\n",
    "J=[10,6,4]\n",
    "matrizABX=Hspin(shifts,J,offset,B)"
   ]
  },
  {
   "cell_type": "code",
   "execution_count": 108,
   "id": "14c7c3a7-8637-4a01-a88d-32bc7005212f",
   "metadata": {},
   "outputs": [
    {
     "name": "stdout",
     "output_type": "stream",
     "text": [
      "1\n",
      "[[ 0.79107488+0.61171933j  0.        +0.j          0.        +0.j\n",
      "   0.        +0.j          0.        +0.j          0.        +0.j\n",
      "   0.        +0.j          0.        +0.j        ]\n",
      " [ 0.        +0.j         -0.95582421-0.29393889j  0.        +0.j\n",
      "   0.        +0.j          0.        +0.j          0.        +0.j\n",
      "   0.        +0.j          0.        +0.j        ]\n",
      " [ 0.        +0.j          0.        +0.j          0.96016948-0.27941827j\n",
      "   0.        +0.j          0.        +0.j          0.        +0.j\n",
      "   0.        +0.j          0.        +0.j        ]\n",
      " [ 0.        +0.j          0.        +0.j          0.        +0.j\n",
      "  -0.80025547+0.59965922j  0.        +0.j          0.        +0.j\n",
      "   0.        +0.j          0.        +0.j        ]\n",
      " [ 0.        +0.j          0.        +0.j          0.        +0.j\n",
      "   0.        +0.j         -0.79852852-0.60195697j  0.        +0.j\n",
      "   0.        +0.j          0.        +0.j        ]\n",
      " [ 0.        +0.j          0.        +0.j          0.        +0.j\n",
      "   0.        +0.j          0.        +0.j          0.95936236+0.28217701j\n",
      "   0.        +0.j          0.        +0.j        ]\n",
      " [ 0.        +0.j          0.        +0.j          0.        +0.j\n",
      "   0.        +0.j          0.        +0.j          0.        +0.j\n",
      "  -0.95666516+0.29119028j  0.        +0.j        ]\n",
      " [ 0.        +0.j          0.        +0.j          0.        +0.j\n",
      "   0.        +0.j          0.        +0.j          0.        +0.j\n",
      "   0.        +0.j          0.79282992-0.60944296j]]\n"
     ]
    }
   ],
   "source": [
    "results_expect, energies_expect=minimize_function(matrizABX,expectation_classic,betas,0)\n",
    "energ2=energysalpha0(matrizABX)"
   ]
  },
  {
   "cell_type": "code",
   "execution_count": 109,
   "id": "b8acab37-3663-4ab4-bfb5-93df5755571f",
   "metadata": {},
   "outputs": [
    {
     "data": {
      "text/plain": [
       "array([-14388.49435344,  -5623.86154703,  -4456.19110702,   4308.4416994 ,\n",
       "        -4371.27355247,   4393.35925394,   5561.02969396,  14325.66250037])"
      ]
     },
     "execution_count": 109,
     "metadata": {},
     "output_type": "execute_result"
    }
   ],
   "source": [
    "energies_expect[0]*factor"
   ]
  },
  {
   "cell_type": "code",
   "execution_count": 110,
   "id": "47e40908-a87c-445f-b6cd-6c72205ba3e2",
   "metadata": {},
   "outputs": [
    {
     "data": {
      "text/plain": [
       "[(-14388.494353441252+0j),\n",
       " (-5623.861547027294+0j),\n",
       " (-4456.191107015409+0j),\n",
       " (4308.441699398549+0j),\n",
       " (-4371.273552470344+0j),\n",
       " (4393.359253943614+0j),\n",
       " (5561.029693955499+0j),\n",
       " (14325.662500369457+0j)]"
      ]
     },
     "execution_count": 110,
     "metadata": {},
     "output_type": "execute_result"
    }
   ],
   "source": [
    "energ2"
   ]
  },
  {
   "cell_type": "markdown",
   "id": "049b45fb-0c1a-474d-8147-b5f75a98556b",
   "metadata": {},
   "source": [
    "### ABC system"
   ]
  },
  {
   "cell_type": "code",
   "execution_count": 111,
   "id": "3dc6414d-afd0-4223-bfe3-c39bb480a10c",
   "metadata": {},
   "outputs": [],
   "source": [
    "betas = [5]"
   ]
  },
  {
   "cell_type": "code",
   "execution_count": 112,
   "id": "30d01a10-df76-46da-985f-179f1dc24179",
   "metadata": {},
   "outputs": [],
   "source": [
    "# Construimos H para el sistema ABC.\n",
    "offset=5\n",
    "B=400\n",
    "shifts=[1,1.025,1.05]\n",
    "J=[8,10,8]\n",
    "matrizABC=Hspin(shifts,J,offset,B)"
   ]
  },
  {
   "cell_type": "code",
   "execution_count": 113,
   "id": "8e57ec93-8182-4c20-9b6a-061f7e628a5a",
   "metadata": {},
   "outputs": [
    {
     "name": "stdout",
     "output_type": "stream",
     "text": [
      "1\n",
      "[[ 0.78791559-0.61578326j  0.        +0.j          0.        +0.j\n",
      "   0.        +0.j          0.        +0.j          0.        +0.j\n",
      "   0.        +0.j          0.        +0.j        ]\n",
      " [ 0.        +0.j         -0.11581417-0.9932709j   0.        +0.j\n",
      "   0.        +0.j          0.        +0.j          0.        +0.j\n",
      "   0.        +0.j          0.        +0.j        ]\n",
      " [ 0.        +0.j          0.        +0.j          0.99530045+0.09683497j\n",
      "   0.        +0.j          0.        +0.j          0.        +0.j\n",
      "   0.        +0.j          0.        +0.j        ]\n",
      " [ 0.        +0.j          0.        +0.j          0.        +0.j\n",
      "   0.60063251-0.79952523j  0.        +0.j          0.        +0.j\n",
      "   0.        +0.j          0.        +0.j        ]\n",
      " [ 0.        +0.j          0.        +0.j          0.        +0.j\n",
      "   0.        +0.j          0.94218181+0.33510214j  0.        +0.j\n",
      "   0.        +0.j          0.        +0.j        ]\n",
      " [ 0.        +0.j          0.        +0.j          0.        +0.j\n",
      "   0.        +0.j          0.        +0.j          0.77645371-0.63017429j\n",
      "   0.        +0.j          0.        +0.j        ]\n",
      " [ 0.        +0.j          0.        +0.j          0.        +0.j\n",
      "   0.        +0.j          0.        +0.j          0.        +0.j\n",
      "   0.4517412 +0.89214903j  0.        +0.j        ]\n",
      " [ 0.        +0.j          0.        +0.j          0.        +0.j\n",
      "   0.        +0.j          0.        +0.j          0.        +0.j\n",
      "   0.        +0.j          0.99691348+0.07850809j]]\n"
     ]
    }
   ],
   "source": [
    "results_expect, energies_expect=minimize_function(matrizABC,expectation_classic,betas,0)\n",
    "energ2=energysalpha0(matrizABC)"
   ]
  },
  {
   "cell_type": "code",
   "execution_count": 114,
   "id": "c241a231-336a-45b8-af9f-7362d964d0ae",
   "metadata": {},
   "outputs": [
    {
     "data": {
      "text/plain": [
       "array([-14944.55625313,  -5085.75050383,  -5012.24343415,   4846.56231515,\n",
       "        -4928.24372415,   4930.56202515,   5004.06909483,  14862.87484413])"
      ]
     },
     "execution_count": 114,
     "metadata": {},
     "output_type": "execute_result"
    }
   ],
   "source": [
    "energies_expect[0]*factor"
   ]
  },
  {
   "cell_type": "code",
   "execution_count": 115,
   "id": "6e9127e5-2210-4d7f-a225-83301cc35c28",
   "metadata": {},
   "outputs": [
    {
     "data": {
      "text/plain": [
       "[(-14944.556253126646+0j),\n",
       " (-5085.750503827072+0j),\n",
       " (-5012.24343414654+0j),\n",
       " (4846.562315153034+0j),\n",
       " (-4928.2437241463795+0j),\n",
       " (4930.562025153195+0j),\n",
       " (5004.069094833727+0j),\n",
       " (14862.874844133301+0j)]"
      ]
     },
     "execution_count": 115,
     "metadata": {},
     "output_type": "execute_result"
    }
   ],
   "source": [
    "energ2"
   ]
  },
  {
   "cell_type": "code",
   "execution_count": 119,
   "id": "abbbfcc2-e999-4c15-a876-9fb86437ae2b",
   "metadata": {},
   "outputs": [
    {
     "ename": "NameError",
     "evalue": "name 'qiskit' is not defined",
     "output_type": "error",
     "traceback": [
      "\u001b[1;31m---------------------------------------------------------------------------\u001b[0m",
      "\u001b[1;31mNameError\u001b[0m                                 Traceback (most recent call last)",
      "Cell \u001b[1;32mIn[119], line 1\u001b[0m\n\u001b[1;32m----> 1\u001b[0m qiskit \u001b[38;5;241m-\u001b[39m\u001b[38;5;241m-\u001b[39mversion\n",
      "\u001b[1;31mNameError\u001b[0m: name 'qiskit' is not defined"
     ]
    }
   ],
   "source": [
    "qiskit --version"
   ]
  },
  {
   "cell_type": "markdown",
   "id": "c0ea0963-7241-4eb5-8a53-c830c5cadf50",
   "metadata": {
    "jp-MarkdownHeadingCollapsed": true
   },
   "source": [
    "### AMPX system"
   ]
  },
  {
   "cell_type": "code",
   "execution_count": 17,
   "id": "846f2626-5b4b-4fd2-afda-4415dbc5f743",
   "metadata": {},
   "outputs": [],
   "source": [
    "betas = [5]"
   ]
  },
  {
   "cell_type": "code",
   "execution_count": 18,
   "id": "c09d6b9c-733e-4c86-992d-2ac1b21b1f06",
   "metadata": {},
   "outputs": [],
   "source": [
    "# Construimos H para el sistema AMPX.\n",
    "offset=0\n",
    "B=400\n",
    "shifts=[1,1.3,2,2.5]\n",
    "J=[10,7,2,15,9,20]\n",
    "matrizAMPX=Hspin(shifts,J,offset,B)"
   ]
  },
  {
   "cell_type": "code",
   "execution_count": 19,
   "id": "b05bda11-f19e-49c2-abef-f13bd9fff164",
   "metadata": {},
   "outputs": [
    {
     "name": "stdout",
     "output_type": "stream",
     "text": [
      "[[-0.99386238-0.11062359j  0.        +0.j          0.        +0.j\n",
      "   0.        +0.j          0.        +0.j          0.        +0.j\n",
      "   0.        +0.j          0.        +0.j          0.        +0.j\n",
      "   0.        +0.j          0.        +0.j          0.        +0.j\n",
      "   0.        +0.j          0.        +0.j          0.        +0.j\n",
      "   0.        +0.j        ]\n",
      " [ 0.        +0.j         -0.80509148+0.59315066j  0.        +0.j\n",
      "   0.        +0.j          0.        +0.j          0.        +0.j\n",
      "   0.        +0.j          0.        +0.j          0.        +0.j\n",
      "   0.        +0.j          0.        +0.j          0.        +0.j\n",
      "   0.        +0.j          0.        +0.j          0.        +0.j\n",
      "   0.        +0.j        ]\n",
      " [ 0.        +0.j          0.        +0.j         -0.51641665-0.85633746j\n",
      "   0.        +0.j          0.        +0.j          0.        +0.j\n",
      "   0.        +0.j          0.        +0.j          0.        +0.j\n",
      "   0.        +0.j          0.        +0.j          0.        +0.j\n",
      "   0.        +0.j          0.        +0.j          0.        +0.j\n",
      "   0.        +0.j        ]\n",
      " [ 0.        +0.j          0.        +0.j          0.        +0.j\n",
      "  -0.96041224-0.27858271j  0.        +0.j          0.        +0.j\n",
      "   0.        +0.j          0.        +0.j          0.        +0.j\n",
      "   0.        +0.j          0.        +0.j          0.        +0.j\n",
      "   0.        +0.j          0.        +0.j          0.        +0.j\n",
      "   0.        +0.j        ]\n",
      " [ 0.        +0.j          0.        +0.j          0.        +0.j\n",
      "   0.        +0.j          0.99749542+0.07073105j  0.        +0.j\n",
      "   0.        +0.j          0.        +0.j          0.        +0.j\n",
      "   0.        +0.j          0.        +0.j          0.        +0.j\n",
      "   0.        +0.j          0.        +0.j          0.        +0.j\n",
      "   0.        +0.j        ]\n",
      " [ 0.        +0.j          0.        +0.j          0.        +0.j\n",
      "   0.        +0.j          0.        +0.j          0.78069011-0.62491836j\n",
      "   0.        +0.j          0.        +0.j          0.        +0.j\n",
      "   0.        +0.j          0.        +0.j          0.        +0.j\n",
      "   0.        +0.j          0.        +0.j          0.        +0.j\n",
      "   0.        +0.j        ]\n",
      " [ 0.        +0.j          0.        +0.j          0.        +0.j\n",
      "   0.        +0.j          0.        +0.j          0.        +0.j\n",
      "   0.5502983 +0.83496813j  0.        +0.j          0.        +0.j\n",
      "   0.        +0.j          0.        +0.j          0.        +0.j\n",
      "   0.        +0.j          0.        +0.j          0.        +0.j\n",
      "   0.        +0.j        ]\n",
      " [ 0.        +0.j          0.        +0.j          0.        +0.j\n",
      "   0.        +0.j          0.        +0.j          0.        +0.j\n",
      "   0.        +0.j          0.97079882+0.23989507j  0.        +0.j\n",
      "   0.        +0.j          0.        +0.j          0.        +0.j\n",
      "   0.        +0.j          0.        +0.j          0.        +0.j\n",
      "   0.        +0.j        ]\n",
      " [ 0.        +0.j          0.        +0.j          0.        +0.j\n",
      "   0.        +0.j          0.        +0.j          0.        +0.j\n",
      "   0.        +0.j          0.        +0.j          0.87065959-0.49188605j\n",
      "   0.        +0.j          0.        +0.j          0.        +0.j\n",
      "   0.        +0.j          0.        +0.j          0.        +0.j\n",
      "   0.        +0.j        ]\n",
      " [ 0.        +0.j          0.        +0.j          0.        +0.j\n",
      "   0.        +0.j          0.        +0.j          0.        +0.j\n",
      "   0.        +0.j          0.        +0.j          0.        +0.j\n",
      "   0.30574858-0.95211229j  0.        +0.j          0.        +0.j\n",
      "   0.        +0.j          0.        +0.j          0.        +0.j\n",
      "   0.        +0.j        ]\n",
      " [ 0.        +0.j          0.        +0.j          0.        +0.j\n",
      "   0.        +0.j          0.        +0.j          0.        +0.j\n",
      "   0.        +0.j          0.        +0.j          0.        +0.j\n",
      "   0.        +0.j          0.91987681+0.39220742j  0.        +0.j\n",
      "   0.        +0.j          0.        +0.j          0.        +0.j\n",
      "   0.        +0.j        ]\n",
      " [ 0.        +0.j          0.        +0.j          0.        +0.j\n",
      "   0.        +0.j          0.        +0.j          0.        +0.j\n",
      "   0.        +0.j          0.        +0.j          0.        +0.j\n",
      "   0.        +0.j          0.        +0.j          0.94182156-0.33611329j\n",
      "   0.        +0.j          0.        +0.j          0.        +0.j\n",
      "   0.        +0.j        ]\n",
      " [ 0.        +0.j          0.        +0.j          0.        +0.j\n",
      "   0.        +0.j          0.        +0.j          0.        +0.j\n",
      "   0.        +0.j          0.        +0.j          0.        +0.j\n",
      "   0.        +0.j          0.        +0.j          0.        +0.j\n",
      "  -0.85026121+0.52636097j  0.        +0.j          0.        +0.j\n",
      "   0.        +0.j        ]\n",
      " [ 0.        +0.j          0.        +0.j          0.        +0.j\n",
      "   0.        +0.j          0.        +0.j          0.        +0.j\n",
      "   0.        +0.j          0.        +0.j          0.        +0.j\n",
      "   0.        +0.j          0.        +0.j          0.        +0.j\n",
      "   0.        +0.j         -0.26737156+0.96359351j  0.        +0.j\n",
      "   0.        +0.j        ]\n",
      " [ 0.        +0.j          0.        +0.j          0.        +0.j\n",
      "   0.        +0.j          0.        +0.j          0.        +0.j\n",
      "   0.        +0.j          0.        +0.j          0.        +0.j\n",
      "   0.        +0.j          0.        +0.j          0.        +0.j\n",
      "   0.        +0.j          0.        +0.j         -0.93484653-0.35505206j\n",
      "   0.        +0.j        ]\n",
      " [ 0.        +0.j          0.        +0.j          0.        +0.j\n",
      "   0.        +0.j          0.        +0.j          0.        +0.j\n",
      "   0.        +0.j          0.        +0.j          0.        +0.j\n",
      "   0.        +0.j          0.        +0.j          0.        +0.j\n",
      "   0.        +0.j          0.        +0.j          0.        +0.j\n",
      "  -0.92760473+0.3735632j ]]\n"
     ]
    },
    {
     "data": {
      "image/png": "[encoded data removed]",
      "text/plain": [
       "<Figure size 640x480 with 1 Axes>"
      ]
     },
     "metadata": {},
     "output_type": "display_data"
    }
   ],
   "source": [
    "alpha=np.linspace(0,1,20)\n",
    "energies=[]\n",
    "for value in alpha:\n",
    "    results_expect, energies_expect=minimize_function(matrizAMPX,expectation_classic,betas,value)\n",
    "    energies.append(energies_expect)\n",
    "\n",
    "for i in range(len(energies[0][0])):\n",
    "    plt.plot(alpha, [energies[j][0][i] for j in range(len(alpha))], '*-', label='E'+str(i))\n",
    "\n",
    "plt.xlabel(r'$\\alpha$')\n",
    "plt.ylabel(r'$Energy$')\n",
    "plt.legend()\n",
    "plt.show()"
   ]
  },
  {
   "cell_type": "markdown",
   "id": "2bd98682-c657-41b2-8653-d64674d19cf3",
   "metadata": {
    "jp-MarkdownHeadingCollapsed": true
   },
   "source": [
    "### AA'MM'X system"
   ]
  },
  {
   "cell_type": "code",
   "execution_count": 101,
   "id": "338660ba-7f3d-466d-8a14-4f7738923569",
   "metadata": {},
   "outputs": [],
   "source": [
    "betas = [3]"
   ]
  },
  {
   "cell_type": "code",
   "execution_count": 102,
   "id": "d08bf8d5-fd3a-4b02-b2e6-7a226c891558",
   "metadata": {},
   "outputs": [],
   "source": [
    "# Construimos H para el sistema AA'MM'X.\n",
    "offset=5\n",
    "B=400\n",
    "shifts=[5,5,5.4,5.4,6]\n",
    "J=[100,20,25,5,35,30,9,200,40,45]\n",
    "matrizAA2MM2X=Hspin(shifts,J,offset,B)"
   ]
  },
  {
   "cell_type": "code",
   "execution_count": 103,
   "id": "48a41e00-bf44-4001-81d5-86a93d869af2",
   "metadata": {},
   "outputs": [],
   "source": [
    "results_expect, energies_expect, UExpect, niterExpect, tExpect=minimize_function(matrizAA2MM2X,expectation_classic,betas)\n",
    "results_free_energy, energies_free_energy, UFE, niterFE, tFE=minimize_function(matrizAA2MM2X,free_energy,betas)"
   ]
  },
  {
   "cell_type": "code",
   "execution_count": 104,
   "id": "9459ded9-25fa-4b11-beff-1454b2397066",
   "metadata": {},
   "outputs": [
    {
     "name": "stdout",
     "output_type": "stream",
     "text": [
      "El tiempo que ha tardado la optimización minimizando el valor esperado de la energía en el hamiltoniano total es 3645.3003063201904 s.\n",
      "El tiempo que ha tardado la optimización minimizando la energía libre es 3135.905396938324 s.\n"
     ]
    }
   ],
   "source": [
    "print('El tiempo que ha tardado la optimización minimizando el valor esperado de la energía en el hamiltoniano total es '+str(tExpect)+' s.')\n",
    "print('El tiempo que ha tardado la optimización minimizando la energía libre es '+str(tFE)+' s.')"
   ]
  },
  {
   "cell_type": "code",
   "execution_count": 105,
   "id": "53427d59-5b02-45cd-a87a-12083583b3fe",
   "metadata": {},
   "outputs": [
    {
     "data": {
      "image/png": "[encoded data removed]",
      "text/plain": [
       "<Figure size 640x480 with 1 Axes>"
      ]
     },
     "metadata": {},
     "output_type": "display_data"
    }
   ],
   "source": [
    "plt.plot(betas, results_expect, '*-', label='Expectation value')\n",
    "plt.plot(betas, results_free_energy, '*-', label='Free energy')\n",
    "plt.xlabel(r'$\\beta$')\n",
    "plt.ylabel(r'$|\\langle TFD_{opt} | TFD \\rangle|$')\n",
    "plt.legend()\n",
    "plt.show()"
   ]
  },
  {
   "cell_type": "code",
   "execution_count": 106,
   "id": "1eaa80e5-fd6b-4408-8207-3f851bee329f",
   "metadata": {},
   "outputs": [
    {
     "data": {
      "image/png": "[encoded data removed]",
      "text/plain": [
       "<Figure size 640x480 with 1 Axes>"
      ]
     },
     "metadata": {},
     "output_type": "display_data"
    }
   ],
   "source": [
    "plt.plot(betas, niterExpect, '*-', label='Expectation value')\n",
    "plt.plot(betas, niterFE, '*-', label='Free energy')\n",
    "plt.xlabel(r'$\\beta$')\n",
    "plt.ylabel(r'Número de iteraciones')\n",
    "plt.legend()\n",
    "plt.show()"
   ]
  },
  {
   "cell_type": "code",
   "execution_count": 107,
   "id": "6925974e-372b-45e2-91be-48e724f7f5d4",
   "metadata": {},
   "outputs": [
    {
     "data": {
      "text/plain": [
       "array([0.83492279])"
      ]
     },
     "execution_count": 107,
     "metadata": {},
     "output_type": "execute_result"
    }
   ],
   "source": [
    "results_expect"
   ]
  },
  {
   "cell_type": "code",
   "execution_count": 108,
   "id": "a2f7ba53-1f01-40bc-af5f-65cd09236c8d",
   "metadata": {},
   "outputs": [
    {
     "data": {
      "text/plain": [
       "array([0.85728159])"
      ]
     },
     "execution_count": 108,
     "metadata": {},
     "output_type": "execute_result"
    }
   ],
   "source": [
    "results_free_energy"
   ]
  },
  {
   "cell_type": "code",
   "execution_count": 109,
   "id": "39ee4529-2504-48dc-a94a-4390a7186dd0",
   "metadata": {},
   "outputs": [
    {
     "data": {
      "text/plain": [
       "array([-2654.81289437, -1835.0941104 , -1534.78731235, -1288.55257139,\n",
       "       -1051.22289675,  -922.29306192,  -881.77657476,  -872.62544345,\n",
       "        -793.5114836 ,  -755.91256955,  -600.26514797,  -493.86587068,\n",
       "        -386.2792137 ,  -113.59504308,   -51.66897733,     4.52042846,\n",
       "         140.43897524,   211.77794207,   212.52272543,   217.96669766,\n",
       "         246.9857774 ,   275.40983796,   348.34138392,   821.29233688,\n",
       "         839.74424673,  1055.12961883,  1117.06067494,  1196.86363035,\n",
       "        1394.36374185,  2011.67278604,  2048.67520237,  2093.49716517])"
      ]
     },
     "execution_count": 109,
     "metadata": {},
     "output_type": "execute_result"
    }
   ],
   "source": [
    "# Energías obtenidas minimizando el valor esperado de la energía en el hamiltoniano total.\n",
    "np.sort(energies_expect[-1])*factor"
   ]
  },
  {
   "cell_type": "code",
   "execution_count": 110,
   "id": "5c57dc88-39cd-43dc-aba0-bb89fce990b1",
   "metadata": {},
   "outputs": [
    {
     "data": {
      "text/plain": [
       "array([-2657.95415942, -2106.43575274, -1711.19754654, -1138.66165307,\n",
       "        -657.76172805,  -634.0467961 ,  -548.67044014,  -548.51352485,\n",
       "        -475.60862463,  -426.7231148 ,  -406.3458253 ,  -298.84383579,\n",
       "        -277.51667972,  -269.5974049 ,  -254.98022258,  -132.53958989,\n",
       "        -120.55144002,   -53.57382469,   -41.93630188,   212.70774862,\n",
       "         288.50781882,   392.01719686,   511.89647247,   588.26610651,\n",
       "         878.83486584,   975.87435983,  1097.02577286,  1117.23756534,\n",
       "        1153.41271642,  1271.51663356,  1566.70591747,  2707.45529052])"
      ]
     },
     "execution_count": 110,
     "metadata": {},
     "output_type": "execute_result"
    }
   ],
   "source": [
    "# Energías obtenidas minimizando el valor esperado de la energía libre.\n",
    "np.sort(energies_free_energy[-1])*factor"
   ]
  },
  {
   "cell_type": "code",
   "execution_count": 111,
   "id": "2d9dd6f9-95e3-4fde-abf1-88d5fc5beec2",
   "metadata": {},
   "outputs": [
    {
     "data": {
      "text/plain": [
       "array([-2671.16799623+0.j, -2289.83386065+0.j, -2064.73171903+0.j,\n",
       "       -2042.86777602+0.j, -2019.28078708+0.j, -1881.15102868+0.j,\n",
       "       -1686.36134564+0.j, -1462.41138025+0.j, -1437.97058809+0.j,\n",
       "        -870.18099194+0.j,  -822.20712396+0.j,  -755.23959896+0.j,\n",
       "        -560.26468625+0.j,  -157.508379  +0.j,   -45.73521399+0.j,\n",
       "         -16.10845732+0.j,    95.77252786+0.j,   213.41043546+0.j,\n",
       "         440.95985422+0.j,   450.43584448+0.j,   471.72258102+0.j,\n",
       "         493.57600948+0.j,   589.75392364+0.j,   764.41079091+0.j,\n",
       "        1122.32788973+0.j,  1741.40378296+0.j,  1742.8215996 +0.j,\n",
       "        1754.05433433+0.j,  2239.83502476+0.j,  2705.32190092+0.j,\n",
       "        2895.73239279+0.j,  3061.48204092+0.j])"
      ]
     },
     "execution_count": 111,
     "metadata": {},
     "output_type": "execute_result"
    }
   ],
   "source": [
    "# Valores teóricos para las energías.\n",
    "np.sort(np.linalg.eig(matrizAA2MM2X.to_matrix())[0])"
   ]
  },
  {
   "cell_type": "code",
   "execution_count": 112,
   "id": "b6a432ad-3a01-43ba-9279-8e281b26989a",
   "metadata": {},
   "outputs": [
    {
     "data": {
      "image/png": "[encoded data removed]",
      "text/plain": [
       "<Figure size 640x480 with 1 Axes>"
      ]
     },
     "metadata": {},
     "output_type": "display_data"
    }
   ],
   "source": [
    "SW=10\n",
    "d=10**5\n",
    "reprSpectrum(shifts,J,d,SW,B,offset,energies_free_energy[-1]*factor,UFE[-1])"
   ]
  }
 ],
 "metadata": {
  "kernelspec": {
   "display_name": "Python 3 (ipykernel)",
   "language": "python",
   "name": "python3"
  },
  "language_info": {
   "codemirror_mode": {
    "name": "ipython",
    "version": 3
   },
   "file_extension": ".py",
   "mimetype": "text/x-python",
   "name": "python",
   "nbconvert_exporter": "python",
   "pygments_lexer": "ipython3",
   "version": "3.12.8"
  }
 },
 "nbformat": 4,
 "nbformat_minor": 5
}
