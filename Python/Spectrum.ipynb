{
 "cells": [
  {
   "cell_type": "code",
   "execution_count": 1,
   "id": "3852db5b-e38a-412d-9770-00fb15ae604e",
   "metadata": {},
   "outputs": [],
   "source": [
    "import sys\n",
    "sys.path.append('./Files')\n",
    "import os\n",
    "import matplotlib.pyplot as plt\n",
    "import time\n",
    "import macroC as mC \n",
    "import numpy as np\n",
    "from qiskit_nature.second_q.mappers import JordanWignerMapper\n",
    "from qiskit_nature.second_q.hamiltonians import QuadraticHamiltonian\n",
    "from qiskit.quantum_info import Operator\n",
    "JW = JordanWignerMapper()"
   ]
  },
  {
   "cell_type": "code",
   "execution_count": 3,
   "id": "975360f3-54f7-4e5a-8be1-3775ef4e350c",
   "metadata": {},
   "outputs": [],
   "source": [
    "# Definimos si va a ser archivo de minimización de H o de free energy, el sistema a estudiar y si es con o sin shots.\n",
    "name='AA2MM2Xfixed' # 'Sulfanol'/'AB'/'AX'/'ABX'/'AMX'/'ABC'/'AMPX'/'AA2MM2X'\n",
    "shots=None \n",
    "method='SLSQP' # 'SLSQP'/'COBYLA'\n",
    "layers=1\n",
    "func='FE' # 'H'/'FE'\n",
    "typetrunc='NoTrunc' # 'NoTrunc','Trunc1','Trunc2','Trunc3','Trunc4'"
   ]
  },
  {
   "cell_type": "code",
   "execution_count": 3,
   "id": "eead0e45-6e82-411a-ae2f-6734e989748b",
   "metadata": {},
   "outputs": [],
   "source": [
    "file ='./Data/'+func+'/'+typetrunc+'/'+name+'-'+method+'-'+'Layers='+str(layers)+'-'+'Shots='+str(shots)+'.dat'"
   ]
  },
  {
   "cell_type": "code",
   "execution_count": 4,
   "id": "e0cf1b56-e875-4388-af0e-4a15be59581a",
   "metadata": {},
   "outputs": [],
   "source": [
    "# Creamos la lista vacía de los datos que vamos a leer\n",
    "data=[i.strip().split() for i in open(file).readlines()]\n",
    "nbetas=len(data)\n",
    "betas=[float(data[i][0]) for i in range(nbetas)]\n",
    "sortindex=np.argsort(betas)\n",
    "betas=np.sort(betas)\n",
    "overlaps=[float(data[sortindex[i]][1]) for i in range(nbetas)]\n",
    "niter=[float(data[sortindex[i]][2]) for i in range(nbetas)]\n",
    "times=[float(data[sortindex[i]][3]) for i in range(nbetas)]"
   ]
  },
  {
   "cell_type": "code",
   "execution_count": 5,
   "id": "b58c3ad5-8f58-4c9c-b791-16c07cf11f1d",
   "metadata": {},
   "outputs": [
    {
     "name": "stdout",
     "output_type": "stream",
     "text": [
      "[1.00000e-03 4.26250e-02 8.42500e-02 1.25875e-01 1.67500e-01 2.09125e-01\n",
      " 2.50750e-01 2.92375e-01 3.34000e-01 3.75625e-01 4.17250e-01 4.58875e-01\n",
      " 5.00500e-01 5.42125e-01 5.83750e-01 6.25375e-01 6.67000e-01 7.08625e-01\n",
      " 7.50250e-01 7.91875e-01 8.33500e-01 8.75125e-01 9.16750e-01 9.58375e-01\n",
      " 1.00000e+00 1.00000e+00 1.37500e+00 1.75000e+00 2.12500e+00 2.50000e+00\n",
      " 2.87500e+00 3.25000e+00 3.62500e+00 4.00000e+00 4.37500e+00 4.75000e+00\n",
      " 5.12500e+00 5.50000e+00 5.87500e+00 6.25000e+00 6.62500e+00 7.00000e+00\n",
      " 7.37500e+00 7.75000e+00 8.12500e+00 8.50000e+00 8.87500e+00 9.25000e+00\n",
      " 9.62500e+00 1.00000e+01]\n"
     ]
    }
   ],
   "source": [
    "print(betas)"
   ]
  },
  {
   "cell_type": "code",
   "execution_count": 6,
   "id": "3c3107aa-38b4-4bca-a337-261cf6194865",
   "metadata": {},
   "outputs": [
    {
     "name": "stdout",
     "output_type": "stream",
     "text": [
      "0.209125\n"
     ]
    }
   ],
   "source": [
    "# Elegimos el beta que queremos la representación.\n",
    "indexbeta=5\n",
    "beta=betas[indexbeta]\n",
    "print(beta)"
   ]
  },
  {
   "cell_type": "code",
   "execution_count": 2,
   "id": "e70f7d6a-1109-47b4-927a-9df239e40141",
   "metadata": {},
   "outputs": [],
   "source": [
    "#[H,shifts, J, B, offset]=mC.system(name)\n",
    "[H,shifts, J, B, offset]=mC.aniline()"
   ]
  },
  {
   "cell_type": "code",
   "execution_count": 4,
   "id": "33278bec-00b8-46ab-93d3-db430146ac2b",
   "metadata": {},
   "outputs": [
    {
     "name": "stdout",
     "output_type": "stream",
     "text": [
      "0.09765982627868652\n",
      "0.0004825592041015625\n",
      "0.017655134201049805\n",
      "5880.172115325928\n",
      "0.10474634170532227\n",
      "0.06944775581359863\n"
     ]
    }
   ],
   "source": [
    "N_sites=H.num_qubits\n",
    "# Transformamos la descomposición obtenida a operadores fermiónicos mediante una Jordan-Wigner inversa.\n",
    "start=time.time()\n",
    "fermionic_op= mC.reverse_map(H)\n",
    "end=time.time()\n",
    "print(end-start)\n",
    "# Creamos la matriz que guardará los coeficientes de la parte cuadrática del operador fermiónico. \n",
    "start=time.time()\n",
    "num_spin_orbitals = fermionic_op.num_spin_orbitals\n",
    "h1 = np.zeros((num_spin_orbitals, num_spin_orbitals), dtype=np.complex128)\n",
    "\n",
    "# Extraemos términos cuadráticos.\n",
    "for term, coeff in fermionic_op.items():\n",
    "    if term.count('+') == 1 and term.count('-') == 1:  # Verifica que tenga un operador de creación y uno de destrucción\n",
    "        # Extraer los índices y los signos de los operadores\n",
    "        indices = [int(t[2]) for t in term.split()]\n",
    "        signs = [t[0] for t in term.split()]\n",
    "        \n",
    "        # Determinar las posiciones en la matriz según los signos\n",
    "        if signs == ['+', '-']:  # Caso +_i -_j\n",
    "            h1[indices[0], indices[1]] += coeff\n",
    "        elif signs == ['-', '+']:  # Caso -_i +_j\n",
    "            h1[indices[1], indices[0]] -= coeff  # Cambiar el signo del coeficiente\n",
    "end=time.time()\n",
    "print(end-start)\n",
    "# Obtenemos la matriz de cambio de base a una en la que la parte cuadrática sea diagonal mediante la transformación de Bogoliubov.\n",
    "# También obtenemos los valores diagonales, las energías orbitales.\n",
    "start=time.time()\n",
    "hamiltonian = QuadraticHamiltonian(\n",
    "    hermitian_part=h1,\n",
    "    constant=0)\n",
    "(transformation_matrix,\n",
    "    orbital_energies,\n",
    "    transformed_constant,\n",
    ") = hamiltonian.diagonalizing_bogoliubov_transform()\n",
    "end=time.time()\n",
    "print(end-start)\n",
    "# Definimos la matriz de transformación\n",
    "start=time.time()\n",
    "T =transformation_matrix\n",
    "T_conj=T\n",
    "# Transformamos el FermionicOp a la nueva base.\n",
    "fermionic_op_new = mC.transform_fermionic_op(fermionic_op, T, T_conj)\n",
    "end=time.time()\n",
    "print(end-start)\n",
    "# Aplicamos una transformación de Jordan-Wigner sobre el operador fermiónico transformado para devolverlo a su expresión en operadores de espín.\n",
    "start=time.time()\n",
    "qubit_op=JW.map(fermionic_op_new.simplify()).chop(1e-6)\n",
    "end=time.time()\n",
    "print(end-start)\n",
    "start=time.time()\n",
    "ansatz=mC.ansatz_U(qubit_op,N_sites,reps=layers)\n",
    "end=time.time()\n",
    "print(end-start)\n",
    "orbital_energies_fixed=np.array([np.real(fermionic_op_new['+_'+str(i)+' '+'-_'+str(i)]) for i in range(N_sites)])"
   ]
  },
  {
   "cell_type": "code",
   "execution_count": null,
   "id": "50b8b82a-2192-4e20-b1d5-ba5e0e3af99e",
   "metadata": {},
   "outputs": [],
   "source": [
    "energdata=[]\n",
    "n=int(2**N_sites)\n",
    "for k in range(nbetas):\n",
    "    energk=[float(data[sortindex[k]][i+4]) for i in range(n)]\n",
    "    energdata.append(energk)\n",
    "energ=np.array(energdata[indexbeta])\n",
    "lentheta=int(float(data[k][n+4]))\n",
    "thetadata=[]\n",
    "for k in range(nbetas):\n",
    "    thetak=[float(data[sortindex[k]][n+5+i]) for i in range(lentheta)]\n",
    "    thetadata.append(thetak)\n",
    "theta=np.array(thetadata[indexbeta])\n",
    "\n",
    "SW=10\n",
    "d=10**4\n",
    "factor=1000\n",
    "# Calculamos la matriz asociada al circuito unitario para los parámetros obtenidos de la minimización.\n",
    "U_bound = ansatz.assign_parameters(theta)\n",
    "U_matrix = Operator(U_bound).data\n",
    "spcOut, fs, spcOutteo, fsteo=mC.getSpectrum(shifts,J,d,SW,B,offset,energ*factor,U_matrix,T)"
   ]
  },
  {
   "cell_type": "code",
   "execution_count": null,
   "id": "a24c8bdd-9d29-498a-ae09-c3d729d12616",
   "metadata": {},
   "outputs": [],
   "source": [
    "np.sort(energ*factor)"
   ]
  },
  {
   "cell_type": "code",
   "execution_count": null,
   "id": "c1193571-e2bd-4ab9-9085-36d990d42bfe",
   "metadata": {},
   "outputs": [],
   "source": [
    "eigvalues,eigvecs=np.linalg.eig(qubit_op)\n",
    "sortindexth=np.argsort(eigvalues)\n",
    "eigvalues[sortindexth]"
   ]
  },
  {
   "cell_type": "code",
   "execution_count": null,
   "id": "e9e197da-af67-40b5-a8dc-8fcf5cb38422",
   "metadata": {},
   "outputs": [],
   "source": [
    "# Representamos ambos espectros para comparar.\n",
    "mC.reprSpectrum(spcOut, fs, spcOutteo, fsteo)"
   ]
  },
  {
   "cell_type": "code",
   "execution_count": null,
   "id": "bd21872b-9326-4d78-88fc-3eafc1452309",
   "metadata": {},
   "outputs": [],
   "source": [
    "# Representamos ambos espectros para comparar.\n",
    "mC.reprSpectrum(spcOut, fs, spcOutteo, fsteo,xlim=[0.9,1.2])"
   ]
  },
  {
   "cell_type": "code",
   "execution_count": null,
   "id": "5100c8ab-289d-419f-87db-645b5658781e",
   "metadata": {},
   "outputs": [],
   "source": [
    "mC.reprSpectrum(spcOut, fs, spcOutteo, fsteo,xlim=[0.95,1.05])"
   ]
  },
  {
   "cell_type": "code",
   "execution_count": null,
   "id": "ad508f30-30c8-4bcb-beba-08cec124671e",
   "metadata": {},
   "outputs": [],
   "source": [
    "mC.reprSpectrum(spcOut, fs, spcOutteo, fsteo,xlim=[1.2,1.4])"
   ]
  },
  {
   "cell_type": "code",
   "execution_count": null,
   "id": "39a1d8d0-c04e-4b08-8e5c-b71bfa76d4b4",
   "metadata": {},
   "outputs": [],
   "source": [
    "mC.reprSpectrum(spcOut, fs, spcOutteo, fsteo,xlim=[1.9,2.1])"
   ]
  },
  {
   "cell_type": "code",
   "execution_count": null,
   "id": "5684479c-e01a-4630-983c-aa1415e8b083",
   "metadata": {},
   "outputs": [],
   "source": [
    "mC.reprSpectrum(spcOut, fs, spcOutteo, fsteo,xlim=[2.425,2.575])"
   ]
  },
  {
   "cell_type": "code",
   "execution_count": null,
   "id": "d0f1e0a6-4fd6-4ca5-9a08-bbb41b217cc0",
   "metadata": {},
   "outputs": [],
   "source": []
  }
 ],
 "metadata": {
  "kernelspec": {
   "display_name": "Python 3 (ipykernel)",
   "language": "python",
   "name": "python3"
  },
  "language_info": {
   "codemirror_mode": {
    "name": "ipython",
    "version": 3
   },
   "file_extension": ".py",
   "mimetype": "text/x-python",
   "name": "python",
   "nbconvert_exporter": "python",
   "pygments_lexer": "ipython3",
   "version": "3.12.8"
  }
 },
 "nbformat": 4,
 "nbformat_minor": 5
}
